{
 "cells": [
  {
   "cell_type": "code",
   "execution_count": 2,
   "metadata": {},
   "outputs": [
    {
     "name": "stdout",
     "output_type": "stream",
     "text": [
      "Python běží!\n"
     ]
    }
   ],
   "source": [
    "print(\"Python běží!\")"
   ]
  },
  {
   "cell_type": "code",
   "execution_count": 3,
   "metadata": {},
   "outputs": [
    {
     "name": "stdout",
     "output_type": "stream",
     "text": [
      "Defaulting to user installation because normal site-packages is not writeable\n",
      "Requirement already satisfied: numpy in /home/pytel/.local/lib/python3.12/site-packages (from -r ../../pip-dependencies.txt (line 1)) (2.1.1)\n",
      "Requirement already satisfied: scipy in /home/pytel/.local/lib/python3.12/site-packages (from -r ../../pip-dependencies.txt (line 2)) (1.14.1)\n",
      "Requirement already satisfied: pillow in /usr/lib/python3/dist-packages (from -r ../../pip-dependencies.txt (line 3)) (10.2.0)\n",
      "Requirement already satisfied: easyocr in /home/pytel/.local/lib/python3.12/site-packages (from -r ../../pip-dependencies.txt (line 4)) (1.7.1)\n",
      "Requirement already satisfied: webcolors in /home/pytel/.local/lib/python3.12/site-packages (from -r ../../pip-dependencies.txt (line 5)) (24.8.0)\n",
      "Requirement already satisfied: matplotlib in /home/pytel/.local/lib/python3.12/site-packages (from -r ../../pip-dependencies.txt (line 6)) (3.9.2)\n",
      "Requirement already satisfied: opencv-python in /home/pytel/.local/lib/python3.12/site-packages (from -r ../../pip-dependencies.txt (line 7)) (4.10.0.84)\n",
      "Requirement already satisfied: torch in /home/pytel/.local/lib/python3.12/site-packages (from easyocr->-r ../../pip-dependencies.txt (line 4)) (2.4.1)\n",
      "Requirement already satisfied: torchvision>=0.5 in /home/pytel/.local/lib/python3.12/site-packages (from easyocr->-r ../../pip-dependencies.txt (line 4)) (0.19.1)\n",
      "Requirement already satisfied: opencv-python-headless in /home/pytel/.local/lib/python3.12/site-packages (from easyocr->-r ../../pip-dependencies.txt (line 4)) (4.10.0.84)\n",
      "Requirement already satisfied: scikit-image in /home/pytel/.local/lib/python3.12/site-packages (from easyocr->-r ../../pip-dependencies.txt (line 4)) (0.24.0)\n",
      "Requirement already satisfied: python-bidi in /home/pytel/.local/lib/python3.12/site-packages (from easyocr->-r ../../pip-dependencies.txt (line 4)) (0.6.0)\n",
      "Requirement already satisfied: PyYAML in /usr/lib/python3/dist-packages (from easyocr->-r ../../pip-dependencies.txt (line 4)) (6.0.1)\n",
      "Requirement already satisfied: Shapely in /home/pytel/.local/lib/python3.12/site-packages (from easyocr->-r ../../pip-dependencies.txt (line 4)) (2.0.6)\n",
      "Requirement already satisfied: pyclipper in /home/pytel/.local/lib/python3.12/site-packages (from easyocr->-r ../../pip-dependencies.txt (line 4)) (1.3.0.post5)\n",
      "Requirement already satisfied: ninja in /home/pytel/.local/lib/python3.12/site-packages (from easyocr->-r ../../pip-dependencies.txt (line 4)) (1.11.1.1)\n",
      "Requirement already satisfied: contourpy>=1.0.1 in /home/pytel/.local/lib/python3.12/site-packages (from matplotlib->-r ../../pip-dependencies.txt (line 6)) (1.3.0)\n",
      "Requirement already satisfied: cycler>=0.10 in /home/pytel/.local/lib/python3.12/site-packages (from matplotlib->-r ../../pip-dependencies.txt (line 6)) (0.12.1)\n",
      "Requirement already satisfied: fonttools>=4.22.0 in /home/pytel/.local/lib/python3.12/site-packages (from matplotlib->-r ../../pip-dependencies.txt (line 6)) (4.53.1)\n",
      "Requirement already satisfied: kiwisolver>=1.3.1 in /home/pytel/.local/lib/python3.12/site-packages (from matplotlib->-r ../../pip-dependencies.txt (line 6)) (1.4.7)\n",
      "Requirement already satisfied: packaging>=20.0 in /usr/lib/python3/dist-packages (from matplotlib->-r ../../pip-dependencies.txt (line 6)) (24.0)\n",
      "Requirement already satisfied: pyparsing>=2.3.1 in /usr/lib/python3/dist-packages (from matplotlib->-r ../../pip-dependencies.txt (line 6)) (3.1.1)\n",
      "Requirement already satisfied: python-dateutil>=2.7 in /usr/lib/python3/dist-packages (from matplotlib->-r ../../pip-dependencies.txt (line 6)) (2.8.2)\n",
      "Requirement already satisfied: filelock in /home/pytel/.local/lib/python3.12/site-packages (from torch->easyocr->-r ../../pip-dependencies.txt (line 4)) (3.16.1)\n",
      "Requirement already satisfied: typing-extensions>=4.8.0 in /usr/lib/python3/dist-packages (from torch->easyocr->-r ../../pip-dependencies.txt (line 4)) (4.10.0)\n",
      "Requirement already satisfied: sympy in /home/pytel/.local/lib/python3.12/site-packages (from torch->easyocr->-r ../../pip-dependencies.txt (line 4)) (1.13.3)\n",
      "Requirement already satisfied: networkx in /home/pytel/.local/lib/python3.12/site-packages (from torch->easyocr->-r ../../pip-dependencies.txt (line 4)) (3.3)\n",
      "Requirement already satisfied: jinja2 in /usr/lib/python3/dist-packages (from torch->easyocr->-r ../../pip-dependencies.txt (line 4)) (3.1.2)\n",
      "Requirement already satisfied: fsspec in /home/pytel/.local/lib/python3.12/site-packages (from torch->easyocr->-r ../../pip-dependencies.txt (line 4)) (2024.9.0)\n",
      "Requirement already satisfied: setuptools in /usr/lib/python3/dist-packages (from torch->easyocr->-r ../../pip-dependencies.txt (line 4)) (68.1.2)\n",
      "Requirement already satisfied: nvidia-cuda-nvrtc-cu12==12.1.105 in /home/pytel/.local/lib/python3.12/site-packages (from torch->easyocr->-r ../../pip-dependencies.txt (line 4)) (12.1.105)\n",
      "Requirement already satisfied: nvidia-cuda-runtime-cu12==12.1.105 in /home/pytel/.local/lib/python3.12/site-packages (from torch->easyocr->-r ../../pip-dependencies.txt (line 4)) (12.1.105)\n",
      "Requirement already satisfied: nvidia-cuda-cupti-cu12==12.1.105 in /home/pytel/.local/lib/python3.12/site-packages (from torch->easyocr->-r ../../pip-dependencies.txt (line 4)) (12.1.105)\n",
      "Requirement already satisfied: nvidia-cudnn-cu12==9.1.0.70 in /home/pytel/.local/lib/python3.12/site-packages (from torch->easyocr->-r ../../pip-dependencies.txt (line 4)) (9.1.0.70)\n",
      "Requirement already satisfied: nvidia-cublas-cu12==12.1.3.1 in /home/pytel/.local/lib/python3.12/site-packages (from torch->easyocr->-r ../../pip-dependencies.txt (line 4)) (12.1.3.1)\n",
      "Requirement already satisfied: nvidia-cufft-cu12==11.0.2.54 in /home/pytel/.local/lib/python3.12/site-packages (from torch->easyocr->-r ../../pip-dependencies.txt (line 4)) (11.0.2.54)\n",
      "Requirement already satisfied: nvidia-curand-cu12==10.3.2.106 in /home/pytel/.local/lib/python3.12/site-packages (from torch->easyocr->-r ../../pip-dependencies.txt (line 4)) (10.3.2.106)\n",
      "Requirement already satisfied: nvidia-cusolver-cu12==11.4.5.107 in /home/pytel/.local/lib/python3.12/site-packages (from torch->easyocr->-r ../../pip-dependencies.txt (line 4)) (11.4.5.107)\n",
      "Requirement already satisfied: nvidia-cusparse-cu12==12.1.0.106 in /home/pytel/.local/lib/python3.12/site-packages (from torch->easyocr->-r ../../pip-dependencies.txt (line 4)) (12.1.0.106)\n",
      "Requirement already satisfied: nvidia-nccl-cu12==2.20.5 in /home/pytel/.local/lib/python3.12/site-packages (from torch->easyocr->-r ../../pip-dependencies.txt (line 4)) (2.20.5)\n",
      "Requirement already satisfied: nvidia-nvtx-cu12==12.1.105 in /home/pytel/.local/lib/python3.12/site-packages (from torch->easyocr->-r ../../pip-dependencies.txt (line 4)) (12.1.105)\n",
      "Requirement already satisfied: triton==3.0.0 in /home/pytel/.local/lib/python3.12/site-packages (from torch->easyocr->-r ../../pip-dependencies.txt (line 4)) (3.0.0)\n",
      "Requirement already satisfied: nvidia-nvjitlink-cu12 in /home/pytel/.local/lib/python3.12/site-packages (from nvidia-cusolver-cu12==11.4.5.107->torch->easyocr->-r ../../pip-dependencies.txt (line 4)) (12.6.68)\n",
      "Requirement already satisfied: imageio>=2.33 in /home/pytel/.local/lib/python3.12/site-packages (from scikit-image->easyocr->-r ../../pip-dependencies.txt (line 4)) (2.35.1)\n",
      "Requirement already satisfied: tifffile>=2022.8.12 in /home/pytel/.local/lib/python3.12/site-packages (from scikit-image->easyocr->-r ../../pip-dependencies.txt (line 4)) (2024.8.30)\n",
      "Requirement already satisfied: lazy-loader>=0.4 in /home/pytel/.local/lib/python3.12/site-packages (from scikit-image->easyocr->-r ../../pip-dependencies.txt (line 4)) (0.4)\n",
      "Requirement already satisfied: mpmath<1.4,>=1.1.0 in /home/pytel/.local/lib/python3.12/site-packages (from sympy->torch->easyocr->-r ../../pip-dependencies.txt (line 4)) (1.3.0)\n"
     ]
    }
   ],
   "source": [
    "import sys\n",
    "\n",
    "sys.path.append('../')\n",
    "sys.path.append('../my_libs/')\n",
    "sys.path.append('../my_libs/img/')\n",
    "\n",
    "!{sys.executable} -m pip install -r ../../pip-dependencies.txt"
   ]
  },
  {
   "cell_type": "code",
   "execution_count": 4,
   "metadata": {},
   "outputs": [],
   "source": [
    "import my_libs as ml\n",
    "from my_libs.tools import *\n",
    "from my_libs.fft import *\n",
    "from my_libs.colors import *\n",
    "from my_libs.img.functional import *\n",
    "from my_libs.img.processing import *"
   ]
  },
  {
   "cell_type": "code",
   "execution_count": 5,
   "metadata": {},
   "outputs": [
    {
     "name": "stdout",
     "output_type": "stream",
     "text": [
      "Hello world!"
     ]
    }
   ],
   "source": [
    "ml.tools.printf(\"Hello world!\")"
   ]
  },
  {
   "cell_type": "markdown",
   "metadata": {},
   "source": [
    "# Cvičení 5\n",
    "1) Načtěte obrázek `pvi_cv05_mince_noise.png`. Obraz převeďte do stupňů \n",
    "šedi  a  složky  Hue.  Na  základě  histogramu  stanovte  práh  a  obrazy \n",
    "segmentujte.  V  jednom  okně  zobrazte  převedené  obrazy,  histogramy  a \n",
    "výsledný segmentovaný obraz. \n",
    " \n",
    "2)  Pro  odstranění  binárního  šumu  použijte  vhodně  zvolenou  binární \n",
    "morfologickou transformaci a vhodně zvolený strukturní element. Výsledek \n",
    "zobrazte. \n",
    " \n",
    "3)  Pro  identifikaci  objektů  použijte  algoritmus  barvení  oblastí.  Výsledek \n",
    "zobrazte. \n",
    " \n",
    "4) Spočítejte těžiště jednotlivých oblastí a na příslušné souřadnice vepište do \n",
    "původního  obrazu  počet  obrazových  bodů  z  daného  objektu.  Výsledek \n",
    "analyzujte  a  navrhněte  klasifikátor,  který  objekty  klasifikuje  na  základě \n",
    "velikosti. (V obraze se nachází 2 desetikoruny, 2 pětikoruny, 9 dvoukorun a 1 \n",
    "koruna). \n",
    " \n",
    "5) Výsledek z klasifikace zobrazte v původním barevném obrázku.  \n",
    "\n",
    "https://docs.opencv.org/4.x/d9/d61/tutorial_py_morphological_ops.html \n",
    "\n",
    "```python\n",
    "from scipy.ndimage import label \n",
    "BWlabel, ncc = label(BWop)\n",
    "```"
   ]
  },
  {
   "cell_type": "code",
   "execution_count": 6,
   "metadata": {},
   "outputs": [],
   "source": [
    "import cv2\n",
    "import numpy as np\n",
    "import matplotlib.pyplot as plt"
   ]
  },
  {
   "cell_type": "code",
   "execution_count": null,
   "metadata": {},
   "outputs": [],
   "source": [
    "DEBUG = False\n",
    "\n",
    "if DEBUG:\n",
    "    for path in sys.path:\n",
    "        print(path)\n",
    "    input()\n",
    "\n",
    "mince = \"pvi_cv05_mince_noise.png\"\n",
    "\n",
    "if __name__ == \"__main__\":\n",
    "    plt.ion()\n",
    "    clear()\n",
    "    plt.close('all')\n",
    "\n",
    "    img_file_name = mince\n",
    "    #img_file_name = barveni\n",
    "    if not os.path.isfile(img_file_name):\n",
    "        raise FileNotFoundError(\n",
    "            Red + \"File:\", Blue +\n",
    "            str(img_file_name), Red + \"not found!\" + NC)\n",
    "\n",
    "    # Load image:\n",
    "    img = cv2.imread(img_file_name)\n",
    "    img = cv2.cvtColor(img, cv2.COLOR_BGR2RGB)\n",
    "\n",
    "    # convert to g:\n",
    "    g_color_space = img_to_g(img)\n",
    "    #print(np.max(g), np.min(g))\n",
    "    g_color_space = normalize(g_color_space)\n",
    "    #print(np.max(g), np.min(g))\n",
    "\n",
    "    # Show image:\n",
    "    plt.figure(\"Image\")\n",
    "    plt.imshow(g_color_space, cmap='jet')\n",
    "    #plt.imshow(g, cmap='gray')\n",
    "    plt.waitforbuttonpress()\n",
    "    plt.close()\n",
    "\n",
    "    # Histogram:\n",
    "    plt.figure(\"Histogram\")\n",
    "    plt.hist(g_color_space.ravel(), bins=256, range=(0, 256))\n",
    "    plt.waitforbuttonpress()\n",
    "    plt.close()\n",
    "\n",
    "    # Na základě analýzy histogramu byl vybrán prah T\n",
    "    T = 95\n",
    "\n",
    "    # Segmentate image:\n",
    "    g_color_space = segmentate(g_color_space, T, 255)\n",
    "    plt.figure(\"Segmentated image\")\n",
    "    plt.imshow(g_color_space, cmap='gray')\n",
    "    plt.waitforbuttonpress()\n",
    "    plt.close()\n",
    "\n",
    "    # Colored objects:\n",
    "    colored, numbers = color_objects(g_color_space)\n",
    "    print(\"Numbers:\", numbers)\n",
    "    plt.figure(\"Colored objects\")\n",
    "    #plt.imshow(colored, cmap='jet')\n",
    "    plt.imshow(colored)\n",
    "    plt.waitforbuttonpress()\n",
    "    plt.close()\n",
    "\n",
    "    # Calculate centers:\n",
    "    centers = calculate_centers_of_objects(colored, numbers)\n",
    "\n",
    "    # Draw centers:\n",
    "    img_centers = img.copy()\n",
    "    for key in centers:\n",
    "        print(Green + \"Object color:\", Blue + str(key) + NC)\n",
    "        x, y = int(centers[key][0]), int(centers[key][1])\n",
    "        area = centers[key][2]\n",
    "        print(\" - Center:\", Blue + str(x) + NC, \",\", Blue + str(y) + NC)\n",
    "        print(\" - Area:\", Blue + str(area) + NC)\n",
    "\n",
    "        center = (y, x)\n",
    "        cv2.circle(img_centers, center, 5, (255, 0, 0), -1)\n",
    "\n",
    "    plt.figure(\"Image with centers\")\n",
    "    plt.imshow(img_centers)\n",
    "    plt.show(block=False)\n",
    "    plt.waitforbuttonpress()\n",
    "\n",
    "    # Detect objects:\n",
    "    coins = []\n",
    "    coords = []\n",
    "    threshold = 4000\n",
    "    for key in centers:\n",
    "        # detect coins:\n",
    "        if centers[key][2] > threshold:\n",
    "            coins.append(5)\n",
    "        else:\n",
    "            coins.append(1)\n",
    "        # position:\n",
    "        coords.append((centers[key][0], centers[key][1]))\n",
    "\n",
    "    # Print results:\n",
    "    for i in range(len(coins)):\n",
    "        x, y = coords[i]\n",
    "        print(\"Na souřadnici těžiště\", int(x), \",\", int(y), \"se nachází:\", coins[i])\n",
    "\n",
    "    coins_value_sum = sum(coins)\n",
    "    print(\"Suma hodnot mincí:\", coins_value_sum)\n",
    "\n",
    "    print(Green + \"Done.\" + NC)\n",
    "\n",
    "# END\n"
   ]
  },
  {
   "cell_type": "markdown",
   "metadata": {},
   "source": [
    "Načtěte obrázek pvi_cv05_mince_noise.png. Obraz převeďte do stupňů \n",
    "šedi  a  složky  Hue.  Na  základě  histogramu  stanovte  práh  a  obrazy \n",
    "segmentujte.  V  jednom  okně  zobrazte  převedené  obrazy,  histogramy  a \n",
    "výsledný segmentovaný obraz. "
   ]
  },
  {
   "cell_type": "markdown",
   "metadata": {},
   "source": [
    "Pro  odstranění  binárního  šumu  použijte  vhodně  zvolenou  binární \n",
    "morfologickou transformaci a vhodně zvolený strukturní element. Výsledek \n",
    "zobrazte. "
   ]
  },
  {
   "cell_type": "markdown",
   "metadata": {},
   "source": [
    "Pro  identifikaci  objektů  použijte  algoritmus  barvení  oblastí.  Výsledek \n",
    "zobrazte."
   ]
  },
  {
   "cell_type": "markdown",
   "metadata": {},
   "source": [
    "Spočítejte těžiště jednotlivých oblastí a na příslušné souřadnice vepište do \n",
    "původního  obrazu  počet  obrazových  bodů  z  daného  objektu.  Výsledek \n",
    "analyzujte  a  navrhněte  klasifikátor,  který  objekty  klasifikuje  na  základě \n",
    "velikosti. (V obraze se nachází 2 desetikoruny, 2 pětikoruny, 9 dvoukorun a 1 \n",
    "koruna). "
   ]
  },
  {
   "cell_type": "markdown",
   "metadata": {},
   "source": [
    "Výsledek z klasifikace zobrazte v původním barevném obrázku. "
   ]
  }
 ],
 "metadata": {
  "kernelspec": {
   "display_name": "Python 3",
   "language": "python",
   "name": "python3"
  },
  "language_info": {
   "codemirror_mode": {
    "name": "ipython",
    "version": 3
   },
   "file_extension": ".py",
   "mimetype": "text/x-python",
   "name": "python",
   "nbconvert_exporter": "python",
   "pygments_lexer": "ipython3",
   "version": "3.12.3"
  }
 },
 "nbformat": 4,
 "nbformat_minor": 2
}
