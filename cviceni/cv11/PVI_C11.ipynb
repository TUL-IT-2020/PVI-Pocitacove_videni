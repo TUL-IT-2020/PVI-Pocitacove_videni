{
 "cells": [
  {
   "cell_type": "code",
   "execution_count": 2,
   "metadata": {},
   "outputs": [
    {
     "name": "stdout",
     "output_type": "stream",
     "text": [
      "Defaulting to user installation because normal site-packages is not writeable\n",
      "Requirement already satisfied: numpy in /home/pytel/.local/lib/python3.12/site-packages (from -r ../../pip-dependencies.txt (line 1)) (2.1.1)\n",
      "Requirement already satisfied: scipy in /home/pytel/.local/lib/python3.12/site-packages (from -r ../../pip-dependencies.txt (line 2)) (1.14.1)\n",
      "Requirement already satisfied: pillow in /usr/lib/python3/dist-packages (from -r ../../pip-dependencies.txt (line 3)) (10.2.0)\n",
      "Requirement already satisfied: easyocr in /home/pytel/.local/lib/python3.12/site-packages (from -r ../../pip-dependencies.txt (line 4)) (1.7.1)\n",
      "Requirement already satisfied: webcolors in /home/pytel/.local/lib/python3.12/site-packages (from -r ../../pip-dependencies.txt (line 5)) (24.8.0)\n",
      "Requirement already satisfied: matplotlib in /home/pytel/.local/lib/python3.12/site-packages (from -r ../../pip-dependencies.txt (line 6)) (3.9.2)\n",
      "Requirement already satisfied: scikit-image in /home/pytel/.local/lib/python3.12/site-packages (from -r ../../pip-dependencies.txt (line 7)) (0.24.0)\n",
      "Requirement already satisfied: opencv-python in /home/pytel/.local/lib/python3.12/site-packages (from -r ../../pip-dependencies.txt (line 8)) (4.10.0.84)\n",
      "Requirement already satisfied: torch in /home/pytel/.local/lib/python3.12/site-packages (from easyocr->-r ../../pip-dependencies.txt (line 4)) (2.4.1)\n",
      "Requirement already satisfied: torchvision>=0.5 in /home/pytel/.local/lib/python3.12/site-packages (from easyocr->-r ../../pip-dependencies.txt (line 4)) (0.19.1)\n",
      "Requirement already satisfied: opencv-python-headless in /home/pytel/.local/lib/python3.12/site-packages (from easyocr->-r ../../pip-dependencies.txt (line 4)) (4.10.0.84)\n",
      "Requirement already satisfied: python-bidi in /home/pytel/.local/lib/python3.12/site-packages (from easyocr->-r ../../pip-dependencies.txt (line 4)) (0.6.0)\n",
      "Requirement already satisfied: PyYAML in /usr/lib/python3/dist-packages (from easyocr->-r ../../pip-dependencies.txt (line 4)) (6.0.1)\n",
      "Requirement already satisfied: Shapely in /home/pytel/.local/lib/python3.12/site-packages (from easyocr->-r ../../pip-dependencies.txt (line 4)) (2.0.6)\n",
      "Requirement already satisfied: pyclipper in /home/pytel/.local/lib/python3.12/site-packages (from easyocr->-r ../../pip-dependencies.txt (line 4)) (1.3.0.post5)\n",
      "Requirement already satisfied: ninja in /home/pytel/.local/lib/python3.12/site-packages (from easyocr->-r ../../pip-dependencies.txt (line 4)) (1.11.1.1)\n",
      "Requirement already satisfied: contourpy>=1.0.1 in /home/pytel/.local/lib/python3.12/site-packages (from matplotlib->-r ../../pip-dependencies.txt (line 6)) (1.3.0)\n",
      "Requirement already satisfied: cycler>=0.10 in /home/pytel/.local/lib/python3.12/site-packages (from matplotlib->-r ../../pip-dependencies.txt (line 6)) (0.12.1)\n",
      "Requirement already satisfied: fonttools>=4.22.0 in /home/pytel/.local/lib/python3.12/site-packages (from matplotlib->-r ../../pip-dependencies.txt (line 6)) (4.53.1)\n",
      "Requirement already satisfied: kiwisolver>=1.3.1 in /home/pytel/.local/lib/python3.12/site-packages (from matplotlib->-r ../../pip-dependencies.txt (line 6)) (1.4.7)\n",
      "Requirement already satisfied: packaging>=20.0 in /usr/lib/python3/dist-packages (from matplotlib->-r ../../pip-dependencies.txt (line 6)) (24.0)\n",
      "Requirement already satisfied: pyparsing>=2.3.1 in /usr/lib/python3/dist-packages (from matplotlib->-r ../../pip-dependencies.txt (line 6)) (3.1.1)\n",
      "Requirement already satisfied: python-dateutil>=2.7 in /usr/lib/python3/dist-packages (from matplotlib->-r ../../pip-dependencies.txt (line 6)) (2.8.2)\n",
      "Requirement already satisfied: networkx>=2.8 in /home/pytel/.local/lib/python3.12/site-packages (from scikit-image->-r ../../pip-dependencies.txt (line 7)) (3.3)\n",
      "Requirement already satisfied: imageio>=2.33 in /home/pytel/.local/lib/python3.12/site-packages (from scikit-image->-r ../../pip-dependencies.txt (line 7)) (2.35.1)\n",
      "Requirement already satisfied: tifffile>=2022.8.12 in /home/pytel/.local/lib/python3.12/site-packages (from scikit-image->-r ../../pip-dependencies.txt (line 7)) (2024.8.30)\n",
      "Requirement already satisfied: lazy-loader>=0.4 in /home/pytel/.local/lib/python3.12/site-packages (from scikit-image->-r ../../pip-dependencies.txt (line 7)) (0.4)\n",
      "Requirement already satisfied: filelock in /home/pytel/.local/lib/python3.12/site-packages (from torch->easyocr->-r ../../pip-dependencies.txt (line 4)) (3.16.1)\n",
      "Requirement already satisfied: typing-extensions>=4.8.0 in /usr/lib/python3/dist-packages (from torch->easyocr->-r ../../pip-dependencies.txt (line 4)) (4.10.0)\n",
      "Requirement already satisfied: sympy in /home/pytel/.local/lib/python3.12/site-packages (from torch->easyocr->-r ../../pip-dependencies.txt (line 4)) (1.13.3)\n",
      "Requirement already satisfied: jinja2 in /usr/lib/python3/dist-packages (from torch->easyocr->-r ../../pip-dependencies.txt (line 4)) (3.1.2)\n",
      "Requirement already satisfied: fsspec in /home/pytel/.local/lib/python3.12/site-packages (from torch->easyocr->-r ../../pip-dependencies.txt (line 4)) (2024.9.0)\n",
      "Requirement already satisfied: setuptools in /usr/lib/python3/dist-packages (from torch->easyocr->-r ../../pip-dependencies.txt (line 4)) (68.1.2)\n",
      "Requirement already satisfied: nvidia-cuda-nvrtc-cu12==12.1.105 in /home/pytel/.local/lib/python3.12/site-packages (from torch->easyocr->-r ../../pip-dependencies.txt (line 4)) (12.1.105)\n",
      "Requirement already satisfied: nvidia-cuda-runtime-cu12==12.1.105 in /home/pytel/.local/lib/python3.12/site-packages (from torch->easyocr->-r ../../pip-dependencies.txt (line 4)) (12.1.105)\n",
      "Requirement already satisfied: nvidia-cuda-cupti-cu12==12.1.105 in /home/pytel/.local/lib/python3.12/site-packages (from torch->easyocr->-r ../../pip-dependencies.txt (line 4)) (12.1.105)\n",
      "Requirement already satisfied: nvidia-cudnn-cu12==9.1.0.70 in /home/pytel/.local/lib/python3.12/site-packages (from torch->easyocr->-r ../../pip-dependencies.txt (line 4)) (9.1.0.70)\n",
      "Requirement already satisfied: nvidia-cublas-cu12==12.1.3.1 in /home/pytel/.local/lib/python3.12/site-packages (from torch->easyocr->-r ../../pip-dependencies.txt (line 4)) (12.1.3.1)\n",
      "Requirement already satisfied: nvidia-cufft-cu12==11.0.2.54 in /home/pytel/.local/lib/python3.12/site-packages (from torch->easyocr->-r ../../pip-dependencies.txt (line 4)) (11.0.2.54)\n",
      "Requirement already satisfied: nvidia-curand-cu12==10.3.2.106 in /home/pytel/.local/lib/python3.12/site-packages (from torch->easyocr->-r ../../pip-dependencies.txt (line 4)) (10.3.2.106)\n",
      "Requirement already satisfied: nvidia-cusolver-cu12==11.4.5.107 in /home/pytel/.local/lib/python3.12/site-packages (from torch->easyocr->-r ../../pip-dependencies.txt (line 4)) (11.4.5.107)\n",
      "Requirement already satisfied: nvidia-cusparse-cu12==12.1.0.106 in /home/pytel/.local/lib/python3.12/site-packages (from torch->easyocr->-r ../../pip-dependencies.txt (line 4)) (12.1.0.106)\n",
      "Requirement already satisfied: nvidia-nccl-cu12==2.20.5 in /home/pytel/.local/lib/python3.12/site-packages (from torch->easyocr->-r ../../pip-dependencies.txt (line 4)) (2.20.5)\n",
      "Requirement already satisfied: nvidia-nvtx-cu12==12.1.105 in /home/pytel/.local/lib/python3.12/site-packages (from torch->easyocr->-r ../../pip-dependencies.txt (line 4)) (12.1.105)\n",
      "Requirement already satisfied: triton==3.0.0 in /home/pytel/.local/lib/python3.12/site-packages (from torch->easyocr->-r ../../pip-dependencies.txt (line 4)) (3.0.0)\n",
      "Requirement already satisfied: nvidia-nvjitlink-cu12 in /home/pytel/.local/lib/python3.12/site-packages (from nvidia-cusolver-cu12==11.4.5.107->torch->easyocr->-r ../../pip-dependencies.txt (line 4)) (12.6.68)\n",
      "Requirement already satisfied: mpmath<1.4,>=1.1.0 in /home/pytel/.local/lib/python3.12/site-packages (from sympy->torch->easyocr->-r ../../pip-dependencies.txt (line 4)) (1.3.0)\n"
     ]
    }
   ],
   "source": [
    "import sys\n",
    "\n",
    "sys.path.append('../')\n",
    "sys.path.append('../my_libs/')\n",
    "sys.path.append('../my_libs/img/')\n",
    "\n",
    "!{sys.executable} -m pip install -r ../../pip-dependencies.txt"
   ]
  },
  {
   "cell_type": "code",
   "execution_count": 7,
   "metadata": {},
   "outputs": [],
   "source": [
    "import my_libs as ml\n",
    "from my_libs.tools import *\n",
    "from my_libs.fft import *\n",
    "from my_libs.colors import *\n",
    "from my_libs.img import images\n",
    "from my_libs.img.processing import *"
   ]
  },
  {
   "cell_type": "code",
   "execution_count": 4,
   "metadata": {},
   "outputs": [
    {
     "name": "stdout",
     "output_type": "stream",
     "text": [
      "Hello world!"
     ]
    }
   ],
   "source": [
    "ml.tools.printf(\"Hello world!\")"
   ]
  },
  {
   "cell_type": "markdown",
   "metadata": {},
   "source": [
    "## Cvičení 11"
   ]
  },
  {
   "cell_type": "code",
   "execution_count": 5,
   "metadata": {},
   "outputs": [],
   "source": [
    "import numpy as np\n",
    "import cv2 as cv\n",
    "from matplotlib import pyplot as plt"
   ]
  },
  {
   "cell_type": "markdown",
   "metadata": {},
   "source": [
    "Naprogramujte  algoritmus  MACE.  Pro  trénování  (3  různí  lidé)  použijte obrázky (převedené do stupňů šedi) p11...p33.bmp (PVI_C11.ZIP). \n",
    " \n",
    "Pomocí  algoritmu  MACE  klasifikujte  neznámý  obraz  `unknown.bmp`. Strmost vrcholu ve výsledném obraze počítejte ze střední oblasti 20x20 ve které je vrchol v oblasti 10x10. \n",
    " \n",
    "Vykreslete  (v  jednom  okně)  neznámý  obrázek  a  jeden  z  obrázků klasifikované třídy. "
   ]
  },
  {
   "cell_type": "code",
   "execution_count": 6,
   "metadata": {},
   "outputs": [
    {
     "ename": "NameError",
     "evalue": "name 'imG' is not defined",
     "output_type": "error",
     "traceback": [
      "\u001b[0;31m---------------------------------------------------------------------------\u001b[0m",
      "\u001b[0;31mNameError\u001b[0m                                 Traceback (most recent call last)",
      "Cell \u001b[0;32mIn[6], line 1\u001b[0m\n\u001b[0;32m----> 1\u001b[0m vec \u001b[38;5;241m=\u001b[39m np\u001b[38;5;241m.\u001b[39mfft\u001b[38;5;241m.\u001b[39mfft2(\u001b[43mimG\u001b[49m)\u001b[38;5;241m.\u001b[39mflatten()\n\u001b[1;32m      2\u001b[0m \u001b[38;5;66;03m#np.fft.fft2(imG).flatten().reshape(4096,1) \u001b[39;00m\n\u001b[1;32m      4\u001b[0m X \u001b[38;5;241m=\u001b[39m np\u001b[38;5;241m.\u001b[39mzeros((\u001b[38;5;241m4096\u001b[39m,\u001b[38;5;241m3\u001b[39m),dtype\u001b[38;5;241m=\u001b[39m\u001b[38;5;28mcomplex\u001b[39m) \n",
      "\u001b[0;31mNameError\u001b[0m: name 'imG' is not defined"
     ]
    }
   ],
   "source": [
    "vec = np.fft.fft2(imG).flatten()\n",
    "#np.fft.fft2(imG).flatten().reshape(4096,1) \n",
    " \n",
    "X = np.zeros((4096,3),dtype=complex) \n",
    " \n",
    "Xp = X.conjugate().transpose() \n",
    " \n",
    "Dm1 = np.linalg.inv(D) \n",
    " \n",
    "M0 = np.matmul(Dm1, X) \n",
    " \n",
    "A = np.abs(np.fft.ifft2(M)) "
   ]
  },
  {
   "cell_type": "code",
   "execution_count": 17,
   "metadata": {},
   "outputs": [
    {
     "name": "stdout",
     "output_type": "stream",
     "text": [
      "Current working directory: /home/pytel/Skola/TUL-navazující_studium/3. semestr/PVI-Pocitacove_videni/cviceni/cv11, files: \n",
      "p11.bmp\n",
      "p21.bmp\n",
      "p31.bmp\n",
      "p12.bmp\n",
      "p33.bmp\n",
      "p22.bmp\n",
      "p23.bmp\n",
      "p32.bmp\n",
      "unknown.bmp\n",
      "p13.bmp\n",
      "Number of images:  9\n"
     ]
    }
   ],
   "source": [
    "folder = 'data/'\n",
    "uknown_file = 'unknown.bmp'\n",
    "\n",
    "# Filter images\n",
    "picture_files = images.find(folder, \"bmp\")\n",
    "picture_files.sort()\n",
    "\n",
    "for i in range(len(picture_files)):\n",
    "    if picture_files[i].find(uknown_file) != -1:\n",
    "        picture_files.pop(i)\n",
    "        break\n",
    "\n",
    "number_of_images = len(picture_files)\n",
    "print(\"Number of images: \", number_of_images)\n",
    "\n",
    "# Load images\n",
    "imgs = images.load(picture_files)"
   ]
  },
  {
   "cell_type": "code",
   "execution_count": 19,
   "metadata": {},
   "outputs": [
    {
     "data": {
      "text/plain": [
       "<matplotlib.image.AxesImage at 0x736ab82d8ec0>"
      ]
     },
     "execution_count": 19,
     "metadata": {},
     "output_type": "execute_result"
    },
    {
     "data": {
      "image/png": "[encoded data removed]",
      "text/plain": [
       "<Figure size 640x480 with 1 Axes>"
      ]
     },
     "metadata": {},
     "output_type": "display_data"
    }
   ],
   "source": [
    "# Show unknown image\n",
    "path = folder + uknown_file\n",
    "\n",
    "# test if exists\n",
    "if not os.path.exists(path):\n",
    "    raise Exception(\"File not found: \" + path)\n",
    "\n",
    "unknown_image_bgr = cv.imread(folder + uknown_file)\n",
    "unknown_image = cv.cvtColor(unknown_image_bgr, cv.COLOR_BGR2RGB)\n",
    "\n",
    "plt.imshow(unknown_image)"
   ]
  }
 ],
 "metadata": {
  "kernelspec": {
   "display_name": "Python 3",
   "language": "python",
   "name": "python3"
  },
  "language_info": {
   "codemirror_mode": {
    "name": "ipython",
    "version": 3
   },
   "file_extension": ".py",
   "mimetype": "text/x-python",
   "name": "python",
   "nbconvert_exporter": "python",
   "pygments_lexer": "ipython3",
   "version": "3.12.3"
  }
 },
 "nbformat": 4,
 "nbformat_minor": 2
}
