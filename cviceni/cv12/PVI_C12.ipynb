{
 "cells": [
  {
   "cell_type": "code",
   "execution_count": 12,
   "metadata": {},
   "outputs": [
    {
     "name": "stdout",
     "output_type": "stream",
     "text": [
      "Requirement already satisfied: numpy in c:\\users\\jaros\\appdata\\local\\packages\\pythonsoftwarefoundation.python.3.11_qbz5n2kfra8p0\\localcache\\local-packages\\python311\\site-packages (from -r ../../pip-dependencies.txt (line 1)) (2.1.3)\n",
      "Requirement already satisfied: scipy in c:\\users\\jaros\\appdata\\local\\packages\\pythonsoftwarefoundation.python.3.11_qbz5n2kfra8p0\\localcache\\local-packages\\python311\\site-packages (from -r ../../pip-dependencies.txt (line 2)) (1.14.1)\n",
      "Requirement already satisfied: pillow in c:\\users\\jaros\\appdata\\local\\packages\\pythonsoftwarefoundation.python.3.11_qbz5n2kfra8p0\\localcache\\local-packages\\python311\\site-packages (from -r ../../pip-dependencies.txt (line 3)) (11.0.0)\n",
      "Requirement already satisfied: easyocr in c:\\users\\jaros\\appdata\\local\\packages\\pythonsoftwarefoundation.python.3.11_qbz5n2kfra8p0\\localcache\\local-packages\\python311\\site-packages (from -r ../../pip-dependencies.txt (line 4)) (1.7.2)\n",
      "Requirement already satisfied: webcolors in c:\\users\\jaros\\appdata\\local\\packages\\pythonsoftwarefoundation.python.3.11_qbz5n2kfra8p0\\localcache\\local-packages\\python311\\site-packages (from -r ../../pip-dependencies.txt (line 5)) (24.11.1)\n",
      "Requirement already satisfied: matplotlib in c:\\users\\jaros\\appdata\\local\\packages\\pythonsoftwarefoundation.python.3.11_qbz5n2kfra8p0\\localcache\\local-packages\\python311\\site-packages (from -r ../../pip-dependencies.txt (line 6)) (3.9.3)\n",
      "Requirement already satisfied: scikit-image in c:\\users\\jaros\\appdata\\local\\packages\\pythonsoftwarefoundation.python.3.11_qbz5n2kfra8p0\\localcache\\local-packages\\python311\\site-packages (from -r ../../pip-dependencies.txt (line 7)) (0.24.0)\n",
      "Requirement already satisfied: opencv-python in c:\\users\\jaros\\appdata\\local\\packages\\pythonsoftwarefoundation.python.3.11_qbz5n2kfra8p0\\localcache\\local-packages\\python311\\site-packages (from -r ../../pip-dependencies.txt (line 8)) (4.10.0.84)\n",
      "Requirement already satisfied: transformers in c:\\users\\jaros\\appdata\\local\\packages\\pythonsoftwarefoundation.python.3.11_qbz5n2kfra8p0\\localcache\\local-packages\\python311\\site-packages (from -r ../../pip-dependencies.txt (line 9)) (4.46.3)\n",
      "Requirement already satisfied: torchvision in c:\\users\\jaros\\appdata\\local\\packages\\pythonsoftwarefoundation.python.3.11_qbz5n2kfra8p0\\localcache\\local-packages\\python311\\site-packages (from -r ../../pip-dependencies.txt (line 10)) (0.20.1)\n",
      "Requirement already satisfied: datasets in c:\\users\\jaros\\appdata\\local\\packages\\pythonsoftwarefoundation.python.3.11_qbz5n2kfra8p0\\localcache\\local-packages\\python311\\site-packages (from -r ../../pip-dependencies.txt (line 11)) (3.1.0)\n",
      "Requirement already satisfied: torch in c:\\users\\jaros\\appdata\\local\\packages\\pythonsoftwarefoundation.python.3.11_qbz5n2kfra8p0\\localcache\\local-packages\\python311\\site-packages (from -r ../../pip-dependencies.txt (line 12)) (2.5.1)\n",
      "Requirement already satisfied: opencv-python-headless in c:\\users\\jaros\\appdata\\local\\packages\\pythonsoftwarefoundation.python.3.11_qbz5n2kfra8p0\\localcache\\local-packages\\python311\\site-packages (from easyocr->-r ../../pip-dependencies.txt (line 4)) (4.10.0.84)\n",
      "Requirement already satisfied: python-bidi in c:\\users\\jaros\\appdata\\local\\packages\\pythonsoftwarefoundation.python.3.11_qbz5n2kfra8p0\\localcache\\local-packages\\python311\\site-packages (from easyocr->-r ../../pip-dependencies.txt (line 4)) (0.6.3)\n",
      "Requirement already satisfied: PyYAML in c:\\users\\jaros\\appdata\\local\\packages\\pythonsoftwarefoundation.python.3.11_qbz5n2kfra8p0\\localcache\\local-packages\\python311\\site-packages (from easyocr->-r ../../pip-dependencies.txt (line 4)) (6.0.2)\n",
      "Requirement already satisfied: Shapely in c:\\users\\jaros\\appdata\\local\\packages\\pythonsoftwarefoundation.python.3.11_qbz5n2kfra8p0\\localcache\\local-packages\\python311\\site-packages (from easyocr->-r ../../pip-dependencies.txt (line 4)) (2.0.6)\n",
      "Requirement already satisfied: pyclipper in c:\\users\\jaros\\appdata\\local\\packages\\pythonsoftwarefoundation.python.3.11_qbz5n2kfra8p0\\localcache\\local-packages\\python311\\site-packages (from easyocr->-r ../../pip-dependencies.txt (line 4)) (1.3.0.post6)\n",
      "Requirement already satisfied: ninja in c:\\users\\jaros\\appdata\\local\\packages\\pythonsoftwarefoundation.python.3.11_qbz5n2kfra8p0\\localcache\\local-packages\\python311\\site-packages (from easyocr->-r ../../pip-dependencies.txt (line 4)) (1.11.1.2)\n",
      "Requirement already satisfied: contourpy>=1.0.1 in c:\\users\\jaros\\appdata\\local\\packages\\pythonsoftwarefoundation.python.3.11_qbz5n2kfra8p0\\localcache\\local-packages\\python311\\site-packages (from matplotlib->-r ../../pip-dependencies.txt (line 6)) (1.3.1)\n",
      "Requirement already satisfied: cycler>=0.10 in c:\\users\\jaros\\appdata\\local\\packages\\pythonsoftwarefoundation.python.3.11_qbz5n2kfra8p0\\localcache\\local-packages\\python311\\site-packages (from matplotlib->-r ../../pip-dependencies.txt (line 6)) (0.12.1)\n",
      "Requirement already satisfied: fonttools>=4.22.0 in c:\\users\\jaros\\appdata\\local\\packages\\pythonsoftwarefoundation.python.3.11_qbz5n2kfra8p0\\localcache\\local-packages\\python311\\site-packages (from matplotlib->-r ../../pip-dependencies.txt (line 6)) (4.55.1)\n",
      "Requirement already satisfied: kiwisolver>=1.3.1 in c:\\users\\jaros\\appdata\\local\\packages\\pythonsoftwarefoundation.python.3.11_qbz5n2kfra8p0\\localcache\\local-packages\\python311\\site-packages (from matplotlib->-r ../../pip-dependencies.txt (line 6)) (1.4.7)\n",
      "Requirement already satisfied: packaging>=20.0 in c:\\users\\jaros\\appdata\\local\\packages\\pythonsoftwarefoundation.python.3.11_qbz5n2kfra8p0\\localcache\\local-packages\\python311\\site-packages (from matplotlib->-r ../../pip-dependencies.txt (line 6)) (24.2)\n",
      "Requirement already satisfied: pyparsing>=2.3.1 in c:\\users\\jaros\\appdata\\local\\packages\\pythonsoftwarefoundation.python.3.11_qbz5n2kfra8p0\\localcache\\local-packages\\python311\\site-packages (from matplotlib->-r ../../pip-dependencies.txt (line 6)) (3.2.0)\n",
      "Requirement already satisfied: python-dateutil>=2.7 in c:\\users\\jaros\\appdata\\local\\packages\\pythonsoftwarefoundation.python.3.11_qbz5n2kfra8p0\\localcache\\local-packages\\python311\\site-packages (from matplotlib->-r ../../pip-dependencies.txt (line 6)) (2.9.0.post0)\n",
      "Requirement already satisfied: networkx>=2.8 in c:\\users\\jaros\\appdata\\local\\packages\\pythonsoftwarefoundation.python.3.11_qbz5n2kfra8p0\\localcache\\local-packages\\python311\\site-packages (from scikit-image->-r ../../pip-dependencies.txt (line 7)) (3.4.2)\n",
      "Requirement already satisfied: imageio>=2.33 in c:\\users\\jaros\\appdata\\local\\packages\\pythonsoftwarefoundation.python.3.11_qbz5n2kfra8p0\\localcache\\local-packages\\python311\\site-packages (from scikit-image->-r ../../pip-dependencies.txt (line 7)) (2.36.1)\n",
      "Requirement already satisfied: tifffile>=2022.8.12 in c:\\users\\jaros\\appdata\\local\\packages\\pythonsoftwarefoundation.python.3.11_qbz5n2kfra8p0\\localcache\\local-packages\\python311\\site-packages (from scikit-image->-r ../../pip-dependencies.txt (line 7)) (2024.9.20)\n",
      "Requirement already satisfied: lazy-loader>=0.4 in c:\\users\\jaros\\appdata\\local\\packages\\pythonsoftwarefoundation.python.3.11_qbz5n2kfra8p0\\localcache\\local-packages\\python311\\site-packages (from scikit-image->-r ../../pip-dependencies.txt (line 7)) (0.4)\n",
      "Requirement already satisfied: filelock in c:\\users\\jaros\\appdata\\local\\packages\\pythonsoftwarefoundation.python.3.11_qbz5n2kfra8p0\\localcache\\local-packages\\python311\\site-packages (from transformers->-r ../../pip-dependencies.txt (line 9)) (3.16.1)\n",
      "Requirement already satisfied: huggingface-hub<1.0,>=0.23.2 in c:\\users\\jaros\\appdata\\local\\packages\\pythonsoftwarefoundation.python.3.11_qbz5n2kfra8p0\\localcache\\local-packages\\python311\\site-packages (from transformers->-r ../../pip-dependencies.txt (line 9)) (0.26.3)\n",
      "Requirement already satisfied: regex!=2019.12.17 in c:\\users\\jaros\\appdata\\local\\packages\\pythonsoftwarefoundation.python.3.11_qbz5n2kfra8p0\\localcache\\local-packages\\python311\\site-packages (from transformers->-r ../../pip-dependencies.txt (line 9)) (2024.11.6)\n",
      "Requirement already satisfied: requests in c:\\users\\jaros\\appdata\\local\\packages\\pythonsoftwarefoundation.python.3.11_qbz5n2kfra8p0\\localcache\\local-packages\\python311\\site-packages (from transformers->-r ../../pip-dependencies.txt (line 9)) (2.32.3)\n",
      "Requirement already satisfied: tokenizers<0.21,>=0.20 in c:\\users\\jaros\\appdata\\local\\packages\\pythonsoftwarefoundation.python.3.11_qbz5n2kfra8p0\\localcache\\local-packages\\python311\\site-packages (from transformers->-r ../../pip-dependencies.txt (line 9)) (0.20.3)\n",
      "Requirement already satisfied: safetensors>=0.4.1 in c:\\users\\jaros\\appdata\\local\\packages\\pythonsoftwarefoundation.python.3.11_qbz5n2kfra8p0\\localcache\\local-packages\\python311\\site-packages (from transformers->-r ../../pip-dependencies.txt (line 9)) (0.4.5)\n",
      "Requirement already satisfied: tqdm>=4.27 in c:\\users\\jaros\\appdata\\local\\packages\\pythonsoftwarefoundation.python.3.11_qbz5n2kfra8p0\\localcache\\local-packages\\python311\\site-packages (from transformers->-r ../../pip-dependencies.txt (line 9)) (4.67.1)\n",
      "Requirement already satisfied: typing-extensions>=4.8.0 in c:\\users\\jaros\\appdata\\local\\packages\\pythonsoftwarefoundation.python.3.11_qbz5n2kfra8p0\\localcache\\local-packages\\python311\\site-packages (from torch->-r ../../pip-dependencies.txt (line 12)) (4.12.2)\n",
      "Requirement already satisfied: jinja2 in c:\\users\\jaros\\appdata\\local\\packages\\pythonsoftwarefoundation.python.3.11_qbz5n2kfra8p0\\localcache\\local-packages\\python311\\site-packages (from torch->-r ../../pip-dependencies.txt (line 12)) (3.1.4)\n",
      "Requirement already satisfied: fsspec in c:\\users\\jaros\\appdata\\local\\packages\\pythonsoftwarefoundation.python.3.11_qbz5n2kfra8p0\\localcache\\local-packages\\python311\\site-packages (from torch->-r ../../pip-dependencies.txt (line 12)) (2024.9.0)\n",
      "Requirement already satisfied: sympy==1.13.1 in c:\\users\\jaros\\appdata\\local\\packages\\pythonsoftwarefoundation.python.3.11_qbz5n2kfra8p0\\localcache\\local-packages\\python311\\site-packages (from torch->-r ../../pip-dependencies.txt (line 12)) (1.13.1)\n",
      "Requirement already satisfied: mpmath<1.4,>=1.1.0 in c:\\users\\jaros\\appdata\\local\\packages\\pythonsoftwarefoundation.python.3.11_qbz5n2kfra8p0\\localcache\\local-packages\\python311\\site-packages (from sympy==1.13.1->torch->-r ../../pip-dependencies.txt (line 12)) (1.3.0)\n",
      "Requirement already satisfied: pyarrow>=15.0.0 in c:\\users\\jaros\\appdata\\local\\packages\\pythonsoftwarefoundation.python.3.11_qbz5n2kfra8p0\\localcache\\local-packages\\python311\\site-packages (from datasets->-r ../../pip-dependencies.txt (line 11)) (18.1.0)\n",
      "Requirement already satisfied: dill<0.3.9,>=0.3.0 in c:\\users\\jaros\\appdata\\local\\packages\\pythonsoftwarefoundation.python.3.11_qbz5n2kfra8p0\\localcache\\local-packages\\python311\\site-packages (from datasets->-r ../../pip-dependencies.txt (line 11)) (0.3.8)\n",
      "Requirement already satisfied: pandas in c:\\users\\jaros\\appdata\\local\\packages\\pythonsoftwarefoundation.python.3.11_qbz5n2kfra8p0\\localcache\\local-packages\\python311\\site-packages (from datasets->-r ../../pip-dependencies.txt (line 11)) (2.2.3)\n",
      "Requirement already satisfied: xxhash in c:\\users\\jaros\\appdata\\local\\packages\\pythonsoftwarefoundation.python.3.11_qbz5n2kfra8p0\\localcache\\local-packages\\python311\\site-packages (from datasets->-r ../../pip-dependencies.txt (line 11)) (3.5.0)\n",
      "Requirement already satisfied: multiprocess<0.70.17 in c:\\users\\jaros\\appdata\\local\\packages\\pythonsoftwarefoundation.python.3.11_qbz5n2kfra8p0\\localcache\\local-packages\\python311\\site-packages (from datasets->-r ../../pip-dependencies.txt (line 11)) (0.70.16)\n",
      "Requirement already satisfied: aiohttp in c:\\users\\jaros\\appdata\\local\\packages\\pythonsoftwarefoundation.python.3.11_qbz5n2kfra8p0\\localcache\\local-packages\\python311\\site-packages (from datasets->-r ../../pip-dependencies.txt (line 11)) (3.11.9)\n",
      "Requirement already satisfied: aiohappyeyeballs>=2.3.0 in c:\\users\\jaros\\appdata\\local\\packages\\pythonsoftwarefoundation.python.3.11_qbz5n2kfra8p0\\localcache\\local-packages\\python311\\site-packages (from aiohttp->datasets->-r ../../pip-dependencies.txt (line 11)) (2.4.4)\n",
      "Requirement already satisfied: aiosignal>=1.1.2 in c:\\users\\jaros\\appdata\\local\\packages\\pythonsoftwarefoundation.python.3.11_qbz5n2kfra8p0\\localcache\\local-packages\\python311\\site-packages (from aiohttp->datasets->-r ../../pip-dependencies.txt (line 11)) (1.3.1)\n",
      "Requirement already satisfied: attrs>=17.3.0 in c:\\users\\jaros\\appdata\\local\\packages\\pythonsoftwarefoundation.python.3.11_qbz5n2kfra8p0\\localcache\\local-packages\\python311\\site-packages (from aiohttp->datasets->-r ../../pip-dependencies.txt (line 11)) (24.2.0)\n",
      "Requirement already satisfied: frozenlist>=1.1.1 in c:\\users\\jaros\\appdata\\local\\packages\\pythonsoftwarefoundation.python.3.11_qbz5n2kfra8p0\\localcache\\local-packages\\python311\\site-packages (from aiohttp->datasets->-r ../../pip-dependencies.txt (line 11)) (1.5.0)\n",
      "Requirement already satisfied: multidict<7.0,>=4.5 in c:\\users\\jaros\\appdata\\local\\packages\\pythonsoftwarefoundation.python.3.11_qbz5n2kfra8p0\\localcache\\local-packages\\python311\\site-packages (from aiohttp->datasets->-r ../../pip-dependencies.txt (line 11)) (6.1.0)\n",
      "Requirement already satisfied: propcache>=0.2.0 in c:\\users\\jaros\\appdata\\local\\packages\\pythonsoftwarefoundation.python.3.11_qbz5n2kfra8p0\\localcache\\local-packages\\python311\\site-packages (from aiohttp->datasets->-r ../../pip-dependencies.txt (line 11)) (0.2.1)\n",
      "Requirement already satisfied: yarl<2.0,>=1.17.0 in c:\\users\\jaros\\appdata\\local\\packages\\pythonsoftwarefoundation.python.3.11_qbz5n2kfra8p0\\localcache\\local-packages\\python311\\site-packages (from aiohttp->datasets->-r ../../pip-dependencies.txt (line 11)) (1.18.3)\n",
      "Requirement already satisfied: six>=1.5 in c:\\users\\jaros\\appdata\\local\\packages\\pythonsoftwarefoundation.python.3.11_qbz5n2kfra8p0\\localcache\\local-packages\\python311\\site-packages (from python-dateutil>=2.7->matplotlib->-r ../../pip-dependencies.txt (line 6)) (1.17.0)\n",
      "Requirement already satisfied: charset-normalizer<4,>=2 in c:\\users\\jaros\\appdata\\local\\packages\\pythonsoftwarefoundation.python.3.11_qbz5n2kfra8p0\\localcache\\local-packages\\python311\\site-packages (from requests->transformers->-r ../../pip-dependencies.txt (line 9)) (3.4.0)\n",
      "Requirement already satisfied: idna<4,>=2.5 in c:\\users\\jaros\\appdata\\local\\packages\\pythonsoftwarefoundation.python.3.11_qbz5n2kfra8p0\\localcache\\local-packages\\python311\\site-packages (from requests->transformers->-r ../../pip-dependencies.txt (line 9)) (3.10)\n",
      "Requirement already satisfied: urllib3<3,>=1.21.1 in c:\\users\\jaros\\appdata\\local\\packages\\pythonsoftwarefoundation.python.3.11_qbz5n2kfra8p0\\localcache\\local-packages\\python311\\site-packages (from requests->transformers->-r ../../pip-dependencies.txt (line 9)) (2.2.3)\n",
      "Requirement already satisfied: certifi>=2017.4.17 in c:\\users\\jaros\\appdata\\local\\packages\\pythonsoftwarefoundation.python.3.11_qbz5n2kfra8p0\\localcache\\local-packages\\python311\\site-packages (from requests->transformers->-r ../../pip-dependencies.txt (line 9)) (2024.8.30)\n",
      "Requirement already satisfied: colorama in c:\\users\\jaros\\appdata\\local\\packages\\pythonsoftwarefoundation.python.3.11_qbz5n2kfra8p0\\localcache\\local-packages\\python311\\site-packages (from tqdm>=4.27->transformers->-r ../../pip-dependencies.txt (line 9)) (0.4.6)\n",
      "Requirement already satisfied: MarkupSafe>=2.0 in c:\\users\\jaros\\appdata\\local\\packages\\pythonsoftwarefoundation.python.3.11_qbz5n2kfra8p0\\localcache\\local-packages\\python311\\site-packages (from jinja2->torch->-r ../../pip-dependencies.txt (line 12)) (3.0.2)\n",
      "Requirement already satisfied: pytz>=2020.1 in c:\\users\\jaros\\appdata\\local\\packages\\pythonsoftwarefoundation.python.3.11_qbz5n2kfra8p0\\localcache\\local-packages\\python311\\site-packages (from pandas->datasets->-r ../../pip-dependencies.txt (line 11)) (2024.2)\n",
      "Requirement already satisfied: tzdata>=2022.7 in c:\\users\\jaros\\appdata\\local\\packages\\pythonsoftwarefoundation.python.3.11_qbz5n2kfra8p0\\localcache\\local-packages\\python311\\site-packages (from pandas->datasets->-r ../../pip-dependencies.txt (line 11)) (2024.2)\n"
     ]
    },
    {
     "name": "stderr",
     "output_type": "stream",
     "text": [
      "\n",
      "[notice] A new release of pip is available: 24.0 -> 24.3.1\n",
      "[notice] To update, run: C:\\Users\\jaros\\AppData\\Local\\Microsoft\\WindowsApps\\PythonSoftwareFoundation.Python.3.11_qbz5n2kfra8p0\\python.exe -m pip install --upgrade pip\n"
     ]
    }
   ],
   "source": [
    "import sys\n",
    "\n",
    "sys.path.append('../')\n",
    "sys.path.append('../my_libs/')\n",
    "sys.path.append('../my_libs/img/')\n",
    "\n",
    "!{sys.executable} -m pip install -r ../../pip-dependencies.txt"
   ]
  },
  {
   "cell_type": "code",
   "execution_count": 13,
   "metadata": {},
   "outputs": [],
   "source": [
    "from my_libs.tools import *\n",
    "from my_libs.colors import *"
   ]
  },
  {
   "cell_type": "markdown",
   "metadata": {},
   "source": [
    "## Cvičení"
   ]
  },
  {
   "cell_type": "markdown",
   "metadata": {},
   "source": [
    "Natrénujte a vyhodnoťte klasifikátor založený na hluboké neuronové síti, který \n",
    "bude  z  obrázku  člověka  určovat,  zda  se  jedná  o  dospělého  či  o  dítě.  Pro \n",
    "trénování a validaci využijte dataset children-vs-adults.zip. Klasifikátor by měl \n",
    "dosáhnout přesnosti (accuracy) alespoň 80 % na validační množině. \n",
    "\n",
    "### Poznámky\n",
    "Není to nezbytné, ale běh na GPU bude rychlejší než na CPU. Kód lze spustit na zdarma dostupných službách poskytujících GPU, např.: \n",
    "- [Google colab](https://colab.research.google.com/drive/16pBJQePbqkz3QFV54L4NIkOn1kwpuRrj) \n",
    "\n",
    "Můžete  použít  libovolnou  dostupnou  knihovnu  pro  práci  s  neuronovými sítěmi.  Doporučené  jsou PyTorch nebo Keras, které  jsou  dobře dokumentované se spoustou příkladů. \n",
    "\n",
    "Doporučený postup je tzv. transfer learning, tj. použití existujícího modelu a  jeho  přizpůsobení  na  novou  úlohu.  Příklady  transfer  learningu  jsou dostupné na Transfer learning v:\n",
    "- [Pytorch](https://pytorch.org/tutorials/beginner/transfer_learning_tutorial.html)\n",
    "- [Keras](https://keras.io/guides/transfer_learning/)\n",
    "\n",
    "Předtrénované  neuronové  sítě  pro  klasifikaci  obrázků  lze  vybírat  z  tzv. \n",
    "ZOO modelů. \n",
    "Knihovna modelů a datasetů:\n",
    "- [torchvision](https://pytorch.org/vision/stable/index.html)\n",
    "- [Pytorch timm](https://huggingface.co/docs/timm/quickstart)\n",
    "- [Keras](https://keras.io/api/applications/)\n",
    "\n",
    "Není nezbytné používat veké modely. Požadovaného skóre lze dosáhnout i s menšími  modely. Např.  předtrénovaný model  „resnet10t”  z  knihovny timm (PyTorch) dosahuje 80% přesnosti  již  po  `3`  epochách při `batch_size=100`  a  optimalizačním algoritmu  Adam  s  `learning_rate = 0.001`. \n",
    "Jedna epocha na CPU Ryzen 7 5700X trvá cca 21 s."
   ]
  },
  {
   "cell_type": "markdown",
   "metadata": {},
   "source": [
    "## Uvažované modely\n",
    "Stažené z [Hugging Face](https://huggingface.co/models?pipeline_tag=image-classification&sort=trending&search=Microsoft+resnet)\n",
    "\n",
    "Z dílny Microsoftu:\n",
    "- [resnet-18](https://huggingface.co/microsoft/resnet-18)\n",
    "- [resnet-50](https://huggingface.co/microsoft/resnet-50)\n",
    "- [resnet-152](https://huggingface.co/microsoft/resnet-152)"
   ]
  },
  {
   "cell_type": "markdown",
   "metadata": {},
   "source": [
    "### Výběr modelu a jeho modifikace"
   ]
  },
  {
   "cell_type": "code",
   "execution_count": 14,
   "metadata": {},
   "outputs": [],
   "source": [
    "from transformers import AutoImageProcessor, AutoModelForImageClassification\n",
    "import os\n",
    "import torch\n",
    "import matplotlib.pyplot as plt\n",
    "from torch.utils.data import DataLoader\n",
    "from torchvision import datasets, transforms"
   ]
  },
  {
   "cell_type": "code",
   "execution_count": 15,
   "metadata": {},
   "outputs": [],
   "source": [
    "# Načtení modelu a procesoru\n",
    "image_processor = AutoImageProcessor.from_pretrained(\"microsoft/resnet-18\")\n",
    "model = AutoModelForImageClassification.from_pretrained(\"microsoft/resnet-18\")\n",
    "\n",
    "# Nastavení modelu pro transfer learning\n",
    "if isinstance(model.classifier, torch.nn.Sequential):\n",
    "    in_features = model.classifier[-1].in_features\n",
    "    model.classifier[-1] = torch.nn.Linear(in_features, 2)  # Binary classification (adult/children)\n",
    "else:\n",
    "    in_features = model.classifier.in_features\n",
    "    model.classifier = torch.nn.Linear(in_features, 2)  # Binary classification (adult/children)\n"
   ]
  },
  {
   "cell_type": "markdown",
   "metadata": {},
   "source": [
    "### Hyper parametry"
   ]
  },
  {
   "cell_type": "code",
   "execution_count": 16,
   "metadata": {},
   "outputs": [],
   "source": [
    "# parametry\n",
    "batch_size = 100\n",
    "learning_rate = 1e-4\n",
    "num_epochs = 10"
   ]
  },
  {
   "cell_type": "markdown",
   "metadata": {},
   "source": [
    "## Data set"
   ]
  },
  {
   "cell_type": "code",
   "execution_count": 17,
   "metadata": {},
   "outputs": [
    {
     "name": "stdout",
     "output_type": "stream",
     "text": [
      "Assembling directory paths...\n",
      "Current working directory:  e:\\Skola\\TUL-navazující_studium\\3. semestr\\PVI-Pocitacove_videni\\cviceni\\cv12\n",
      "Train path:  \u001b[0;34mchildren_vs_adults\\train\u001b[0m\n",
      "Test path:  \u001b[0;34mchildren_vs_adults\\valid\u001b[0m\n"
     ]
    }
   ],
   "source": [
    "number_of_pictures = 800\n",
    "folder = \"children_vs_adults\"\n",
    "train_folder = \"train\"\n",
    "test_folder = \"valid\"\n",
    "pwd = os.getcwd()\n",
    "\n",
    "# Cesty k trénovacím a testovacím složkám\n",
    "#long_path = os.path.join(pwd, folder)\n",
    "long_path = folder\n",
    "train_path = os.path.join(long_path, train_folder)\n",
    "test_path = os.path.join(long_path, test_folder)\n",
    "\n",
    "print(\"Assembling directory paths...\")\n",
    "print(\"Current working directory: \", pwd)\n",
    "\n",
    "# test if the folder exists\n",
    "paths = [train_path, test_path]\n",
    "for path in paths:\n",
    "    if not os.path.exists(path):\n",
    "        raise Exception(\"Folder does not exist: \" + path)\n",
    "\n",
    "print(\"Train path: \", Blue + train_path + NC)\n",
    "print(\"Test path: \", Blue + test_path + NC)"
   ]
  },
  {
   "cell_type": "code",
   "execution_count": 18,
   "metadata": {},
   "outputs": [
    {
     "name": "stdout",
     "output_type": "stream",
     "text": [
      "Loading the dataset...\n",
      "Number of training examples:  \u001b[0;34m680\u001b[0m\n",
      "Number of test examples:  \u001b[0;34m120\u001b[0m\n",
      "\n",
      "\u001b[0;32mDataset loaded successfully.\u001b[0m\n"
     ]
    }
   ],
   "source": [
    "# Nastavení transformací pro dataset\n",
    "transform = transforms.Compose([\n",
    "    transforms.Resize((224, 224)),\n",
    "    transforms.ToTensor(),\n",
    "    transforms.Normalize(mean=image_processor.image_mean, std=image_processor.image_std)\n",
    "])\n",
    "\n",
    "# Načtení datasetu\n",
    "print(\"Loading the dataset...\")\n",
    "\n",
    "# Načtení datasetu\n",
    "train_dataset = datasets.ImageFolder(train_path, transform=transform)\n",
    "test_dataset = datasets.ImageFolder(test_path, transform=transform)\n",
    "\n",
    "train_loader = DataLoader(train_dataset, batch_size=batch_size, shuffle=True)\n",
    "test_loader = DataLoader(test_dataset, batch_size=batch_size, shuffle=False)\n",
    "\n",
    "print(\"Number of training examples: \", Blue + str(len(train_dataset)) + NC)\n",
    "print(\"Number of test examples: \", Blue + str(len(test_dataset)) + NC)\n",
    "\n",
    "print(\"\")\n",
    "if len(train_dataset) + len(test_dataset) != number_of_pictures:\n",
    "    print(\"Number of pictures in the dataset is not correct.\")\n",
    "    print(\"Expected number of pictures: \", number_of_pictures)\n",
    "    print(\"Number of pictures in the dataset: \", len(train_dataset) + len(test_dataset))\n",
    "    exit(1)\n",
    "else:\n",
    "    print(Green + \"Dataset loaded successfully.\" + NC)\n"
   ]
  },
  {
   "cell_type": "markdown",
   "metadata": {},
   "source": [
    "## Transfer learning"
   ]
  },
  {
   "cell_type": "markdown",
   "metadata": {},
   "source": [
    "### Nastavení trénování"
   ]
  },
  {
   "cell_type": "code",
   "execution_count": 19,
   "metadata": {},
   "outputs": [
    {
     "name": "stdout",
     "output_type": "stream",
     "text": [
      "Hyper parameters:\n",
      "Batch size: \t \u001b[0;34m100\u001b[0m\n",
      "Learning rate: \t \u001b[0;34m0.0001\u001b[0m\n",
      "Usig device: \t \u001b[0;34mcpu\u001b[0m\n"
     ]
    }
   ],
   "source": [
    "device = torch.device(\"cuda\" if torch.cuda.is_available() else \"cpu\")\n",
    "model.to(device)\n",
    "\n",
    "criterion = torch.nn.CrossEntropyLoss()\n",
    "optimizer = torch.optim.Adam(model.parameters(), lr=learning_rate)\n",
    "\n",
    "print(\"Hyper parameters:\")\n",
    "print(\"Batch size: \\t\", Blue + str(batch_size) + NC)\n",
    "print(\"Learning rate: \\t\", Blue + str(learning_rate) + NC)\n",
    "print(\"Usig device: \\t\", Blue + str(device) + NC)"
   ]
  },
  {
   "cell_type": "markdown",
   "metadata": {},
   "source": [
    "### Trénování modelu"
   ]
  },
  {
   "cell_type": "code",
   "execution_count": 20,
   "metadata": {},
   "outputs": [
    {
     "name": "stdout",
     "output_type": "stream",
     "text": [
      "Epoch [1/10], Loss: 0.5546\n",
      "Accuracy of the model: 75.00%\n",
      "Epoch [2/10], Loss: 0.1641\n",
      "Accuracy of the model: 75.00%\n",
      "Epoch [3/10], Loss: 0.0525\n",
      "Accuracy of the model: 81.67%\n",
      "Epoch [4/10], Loss: 0.0179\n",
      "Accuracy of the model: 84.17%\n",
      "Epoch [5/10], Loss: 0.0071\n",
      "Accuracy of the model: 83.33%\n",
      "Epoch [6/10], Loss: 0.0036\n",
      "Accuracy of the model: 82.50%\n",
      "Epoch [7/10], Loss: 0.0023\n",
      "Accuracy of the model: 83.33%\n",
      "Epoch [8/10], Loss: 0.0017\n",
      "Accuracy of the model: 83.33%\n",
      "Epoch [9/10], Loss: 0.0015\n",
      "Accuracy of the model: 83.33%\n",
      "Epoch [10/10], Loss: 0.0017\n",
      "Accuracy of the model: 84.17%\n",
      "Training finished.\n",
      "Final accuracy of the model on the test images:  \u001b[0;32m0.8416666666666667\u001b[0m\n"
     ]
    }
   ],
   "source": [
    "losses = []\n",
    "accuracies = []\n",
    "for epoch in range(num_epochs):\n",
    "    # Trenovani modelu\n",
    "    model.train()\n",
    "    running_loss = 0.0\n",
    "    for images, labels in train_loader:\n",
    "        images, labels = images.to(device), labels.to(device)\n",
    "        \n",
    "        optimizer.zero_grad()\n",
    "        outputs = model(images).logits\n",
    "        loss = criterion(outputs, labels)\n",
    "        loss.backward()\n",
    "        optimizer.step()\n",
    "        \n",
    "        running_loss += loss.item()\n",
    "    losses.append(running_loss/len(train_loader))\n",
    "    \n",
    "    print(f\"Epoch [{epoch+1}/{num_epochs}], Loss: {running_loss/len(train_loader):.4f}\")\n",
    "\n",
    "    # Testovani modelu\n",
    "    model.eval()\n",
    "    correct = 0\n",
    "    total = 0\n",
    "    with torch.no_grad():\n",
    "        for images, labels in test_loader:\n",
    "            images, labels = images.to(device), labels.to(device)\n",
    "            outputs = model(images).logits\n",
    "            _, predicted = torch.max(outputs.data, 1)\n",
    "            total += labels.size(0)\n",
    "            correct += (predicted == labels).sum().item()\n",
    "    accuracy = correct / total\n",
    "    accuracies.append(accuracy)\n",
    "\n",
    "    print(f\"Accuracy of the model: {100 * accuracy:.2f}%\")\n",
    "\n",
    "print(\"Training finished.\")\n",
    "print(\"Final accuracy of the model on the test images: \", Green + str(accuracy) + NC)"
   ]
  },
  {
   "cell_type": "code",
   "execution_count": 21,
   "metadata": {},
   "outputs": [
    {
     "data": {
      "image/png": "[encoded data removed]",
      "text/plain": [
       "<Figure size 640x480 with 1 Axes>"
      ]
     },
     "metadata": {},
     "output_type": "display_data"
    }
   ],
   "source": [
    "# plot loss R, accuracy G\n",
    "plt.figure()\n",
    "plt.plot(losses, 'r')\n",
    "plt.plot(accuracies, 'g')\n",
    "plt.xlabel(\"Epoch\")\n",
    "plt.ylabel(\"Value\")\n",
    "plt.legend([\"Loss\", \"Accuracy\"])\n",
    "plt.show()"
   ]
  }
 ],
 "metadata": {
  "kernelspec": {
   "display_name": "Python 3",
   "language": "python",
   "name": "python3"
  },
  "language_info": {
   "codemirror_mode": {
    "name": "ipython",
    "version": 3
   },
   "file_extension": ".py",
   "mimetype": "text/x-python",
   "name": "python",
   "nbconvert_exporter": "python",
   "pygments_lexer": "ipython3",
   "version": "3.11.9"
  }
 },
 "nbformat": 4,
 "nbformat_minor": 2
}
