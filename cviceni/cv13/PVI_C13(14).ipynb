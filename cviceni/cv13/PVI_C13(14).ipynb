{
 "cells": [
  {
   "cell_type": "code",
   "execution_count": 18,
   "metadata": {},
   "outputs": [
    {
     "name": "stdout",
     "output_type": "stream",
     "text": [
      "Defaulting to user installation because normal site-packages is not writeable\n",
      "Requirement already satisfied: numpy in /usr/lib/python3/dist-packages (from -r ../../pip-dependencies.txt (line 1)) (1.26.4)\n",
      "Requirement already satisfied: scipy in /usr/lib/python3/dist-packages (from -r ../../pip-dependencies.txt (line 2)) (1.11.4)\n",
      "Requirement already satisfied: pillow in /usr/lib/python3/dist-packages (from -r ../../pip-dependencies.txt (line 3)) (10.2.0)\n",
      "Requirement already satisfied: easyocr in /home/vojta/.local/lib/python3.12/site-packages (from -r ../../pip-dependencies.txt (line 4)) (1.7.2)\n",
      "Requirement already satisfied: webcolors in /home/vojta/.local/lib/python3.12/site-packages (from -r ../../pip-dependencies.txt (line 5)) (24.11.1)\n",
      "Requirement already satisfied: matplotlib in /usr/lib/python3/dist-packages (from -r ../../pip-dependencies.txt (line 6)) (3.6.3)\n",
      "Requirement already satisfied: scikit-image in /home/vojta/.local/lib/python3.12/site-packages (from -r ../../pip-dependencies.txt (line 7)) (0.24.0)\n",
      "Requirement already satisfied: opencv-python in /home/vojta/.local/lib/python3.12/site-packages (from -r ../../pip-dependencies.txt (line 8)) (4.10.0.84)\n",
      "Requirement already satisfied: transformers in /home/vojta/.local/lib/python3.12/site-packages (from -r ../../pip-dependencies.txt (line 9)) (4.46.3)\n",
      "Requirement already satisfied: torchvision in /home/vojta/.local/lib/python3.12/site-packages (from -r ../../pip-dependencies.txt (line 10)) (0.20.1)\n",
      "Requirement already satisfied: datasets in /home/vojta/.local/lib/python3.12/site-packages (from -r ../../pip-dependencies.txt (line 11)) (3.1.0)\n",
      "Requirement already satisfied: torch in /home/vojta/.local/lib/python3.12/site-packages (from -r ../../pip-dependencies.txt (line 12)) (2.5.1)\n",
      "Requirement already satisfied: ultralytics in /home/vojta/.local/lib/python3.12/site-packages (from -r ../../pip-dependencies.txt (line 13)) (8.3.49)\n",
      "Requirement already satisfied: opencv-python-headless in /home/vojta/.local/lib/python3.12/site-packages (from easyocr->-r ../../pip-dependencies.txt (line 4)) (4.10.0.84)\n",
      "Requirement already satisfied: python-bidi in /home/vojta/.local/lib/python3.12/site-packages (from easyocr->-r ../../pip-dependencies.txt (line 4)) (0.6.3)\n",
      "Requirement already satisfied: PyYAML in /usr/lib/python3/dist-packages (from easyocr->-r ../../pip-dependencies.txt (line 4)) (6.0.1)\n",
      "Requirement already satisfied: Shapely in /home/vojta/.local/lib/python3.12/site-packages (from easyocr->-r ../../pip-dependencies.txt (line 4)) (2.0.6)\n",
      "Requirement already satisfied: pyclipper in /home/vojta/.local/lib/python3.12/site-packages (from easyocr->-r ../../pip-dependencies.txt (line 4)) (1.3.0.post6)\n",
      "Requirement already satisfied: ninja in /home/vojta/.local/lib/python3.12/site-packages (from easyocr->-r ../../pip-dependencies.txt (line 4)) (1.11.1.2)\n",
      "Requirement already satisfied: networkx>=2.8 in /home/vojta/.local/lib/python3.12/site-packages (from scikit-image->-r ../../pip-dependencies.txt (line 7)) (3.4.2)\n",
      "Requirement already satisfied: imageio>=2.33 in /home/vojta/.local/lib/python3.12/site-packages (from scikit-image->-r ../../pip-dependencies.txt (line 7)) (2.36.1)\n",
      "Requirement already satisfied: tifffile>=2022.8.12 in /home/vojta/.local/lib/python3.12/site-packages (from scikit-image->-r ../../pip-dependencies.txt (line 7)) (2024.9.20)\n",
      "Requirement already satisfied: packaging>=21 in /usr/lib/python3/dist-packages (from scikit-image->-r ../../pip-dependencies.txt (line 7)) (24.0)\n",
      "Requirement already satisfied: lazy-loader>=0.4 in /home/vojta/.local/lib/python3.12/site-packages (from scikit-image->-r ../../pip-dependencies.txt (line 7)) (0.4)\n",
      "Requirement already satisfied: filelock in /home/vojta/.local/lib/python3.12/site-packages (from transformers->-r ../../pip-dependencies.txt (line 9)) (3.16.1)\n",
      "Requirement already satisfied: huggingface-hub<1.0,>=0.23.2 in /home/vojta/.local/lib/python3.12/site-packages (from transformers->-r ../../pip-dependencies.txt (line 9)) (0.26.3)\n",
      "Requirement already satisfied: regex!=2019.12.17 in /home/vojta/.local/lib/python3.12/site-packages (from transformers->-r ../../pip-dependencies.txt (line 9)) (2024.11.6)\n",
      "Requirement already satisfied: requests in /home/vojta/.local/lib/python3.12/site-packages (from transformers->-r ../../pip-dependencies.txt (line 9)) (2.32.3)\n",
      "Requirement already satisfied: tokenizers<0.21,>=0.20 in /home/vojta/.local/lib/python3.12/site-packages (from transformers->-r ../../pip-dependencies.txt (line 9)) (0.20.3)\n",
      "Requirement already satisfied: safetensors>=0.4.1 in /home/vojta/.local/lib/python3.12/site-packages (from transformers->-r ../../pip-dependencies.txt (line 9)) (0.4.5)\n",
      "Requirement already satisfied: tqdm>=4.27 in /home/vojta/.local/lib/python3.12/site-packages (from transformers->-r ../../pip-dependencies.txt (line 9)) (4.67.1)\n",
      "Requirement already satisfied: typing-extensions>=4.8.0 in /usr/lib/python3/dist-packages (from torch->-r ../../pip-dependencies.txt (line 12)) (4.10.0)\n",
      "Requirement already satisfied: jinja2 in /usr/lib/python3/dist-packages (from torch->-r ../../pip-dependencies.txt (line 12)) (3.1.2)\n",
      "Requirement already satisfied: fsspec in /home/vojta/.local/lib/python3.12/site-packages (from torch->-r ../../pip-dependencies.txt (line 12)) (2024.9.0)\n",
      "Requirement already satisfied: nvidia-cuda-nvrtc-cu12==12.4.127 in /home/vojta/.local/lib/python3.12/site-packages (from torch->-r ../../pip-dependencies.txt (line 12)) (12.4.127)\n",
      "Requirement already satisfied: nvidia-cuda-runtime-cu12==12.4.127 in /home/vojta/.local/lib/python3.12/site-packages (from torch->-r ../../pip-dependencies.txt (line 12)) (12.4.127)\n",
      "Requirement already satisfied: nvidia-cuda-cupti-cu12==12.4.127 in /home/vojta/.local/lib/python3.12/site-packages (from torch->-r ../../pip-dependencies.txt (line 12)) (12.4.127)\n",
      "Requirement already satisfied: nvidia-cudnn-cu12==9.1.0.70 in /home/vojta/.local/lib/python3.12/site-packages (from torch->-r ../../pip-dependencies.txt (line 12)) (9.1.0.70)\n",
      "Requirement already satisfied: nvidia-cublas-cu12==12.4.5.8 in /home/vojta/.local/lib/python3.12/site-packages (from torch->-r ../../pip-dependencies.txt (line 12)) (12.4.5.8)\n",
      "Requirement already satisfied: nvidia-cufft-cu12==11.2.1.3 in /home/vojta/.local/lib/python3.12/site-packages (from torch->-r ../../pip-dependencies.txt (line 12)) (11.2.1.3)\n",
      "Requirement already satisfied: nvidia-curand-cu12==10.3.5.147 in /home/vojta/.local/lib/python3.12/site-packages (from torch->-r ../../pip-dependencies.txt (line 12)) (10.3.5.147)\n",
      "Requirement already satisfied: nvidia-cusolver-cu12==11.6.1.9 in /home/vojta/.local/lib/python3.12/site-packages (from torch->-r ../../pip-dependencies.txt (line 12)) (11.6.1.9)\n",
      "Requirement already satisfied: nvidia-cusparse-cu12==12.3.1.170 in /home/vojta/.local/lib/python3.12/site-packages (from torch->-r ../../pip-dependencies.txt (line 12)) (12.3.1.170)\n",
      "Requirement already satisfied: nvidia-nccl-cu12==2.21.5 in /home/vojta/.local/lib/python3.12/site-packages (from torch->-r ../../pip-dependencies.txt (line 12)) (2.21.5)\n",
      "Requirement already satisfied: nvidia-nvtx-cu12==12.4.127 in /home/vojta/.local/lib/python3.12/site-packages (from torch->-r ../../pip-dependencies.txt (line 12)) (12.4.127)\n",
      "Requirement already satisfied: nvidia-nvjitlink-cu12==12.4.127 in /home/vojta/.local/lib/python3.12/site-packages (from torch->-r ../../pip-dependencies.txt (line 12)) (12.4.127)\n",
      "Requirement already satisfied: triton==3.1.0 in /home/vojta/.local/lib/python3.12/site-packages (from torch->-r ../../pip-dependencies.txt (line 12)) (3.1.0)\n",
      "Requirement already satisfied: setuptools in /usr/lib/python3/dist-packages (from torch->-r ../../pip-dependencies.txt (line 12)) (68.1.2)\n",
      "Requirement already satisfied: sympy==1.13.1 in /home/vojta/.local/lib/python3.12/site-packages (from torch->-r ../../pip-dependencies.txt (line 12)) (1.13.1)\n",
      "Requirement already satisfied: mpmath<1.4,>=1.1.0 in /home/vojta/.local/lib/python3.12/site-packages (from sympy==1.13.1->torch->-r ../../pip-dependencies.txt (line 12)) (1.3.0)\n",
      "Requirement already satisfied: pyarrow>=15.0.0 in /home/vojta/.local/lib/python3.12/site-packages (from datasets->-r ../../pip-dependencies.txt (line 11)) (18.1.0)\n",
      "Requirement already satisfied: dill<0.3.9,>=0.3.0 in /home/vojta/.local/lib/python3.12/site-packages (from datasets->-r ../../pip-dependencies.txt (line 11)) (0.3.8)\n",
      "Requirement already satisfied: pandas in /home/vojta/.local/lib/python3.12/site-packages (from datasets->-r ../../pip-dependencies.txt (line 11)) (2.2.3)\n",
      "Requirement already satisfied: xxhash in /home/vojta/.local/lib/python3.12/site-packages (from datasets->-r ../../pip-dependencies.txt (line 11)) (3.5.0)\n",
      "Requirement already satisfied: multiprocess<0.70.17 in /home/vojta/.local/lib/python3.12/site-packages (from datasets->-r ../../pip-dependencies.txt (line 11)) (0.70.16)\n",
      "Requirement already satisfied: aiohttp in /home/vojta/.local/lib/python3.12/site-packages (from datasets->-r ../../pip-dependencies.txt (line 11)) (3.11.9)\n",
      "Requirement already satisfied: psutil in /usr/lib/python3/dist-packages (from ultralytics->-r ../../pip-dependencies.txt (line 13)) (5.9.8)\n",
      "Requirement already satisfied: py-cpuinfo in /home/vojta/.local/lib/python3.12/site-packages (from ultralytics->-r ../../pip-dependencies.txt (line 13)) (9.0.0)\n",
      "Requirement already satisfied: seaborn>=0.11.0 in /home/vojta/.local/lib/python3.12/site-packages (from ultralytics->-r ../../pip-dependencies.txt (line 13)) (0.13.2)\n",
      "Requirement already satisfied: ultralytics-thop>=2.0.0 in /home/vojta/.local/lib/python3.12/site-packages (from ultralytics->-r ../../pip-dependencies.txt (line 13)) (2.0.13)\n",
      "Requirement already satisfied: aiohappyeyeballs>=2.3.0 in /home/vojta/.local/lib/python3.12/site-packages (from aiohttp->datasets->-r ../../pip-dependencies.txt (line 11)) (2.4.4)\n",
      "Requirement already satisfied: aiosignal>=1.1.2 in /home/vojta/.local/lib/python3.12/site-packages (from aiohttp->datasets->-r ../../pip-dependencies.txt (line 11)) (1.3.1)\n",
      "Requirement already satisfied: attrs>=17.3.0 in /usr/lib/python3/dist-packages (from aiohttp->datasets->-r ../../pip-dependencies.txt (line 11)) (23.2.0)\n",
      "Requirement already satisfied: frozenlist>=1.1.1 in /home/vojta/.local/lib/python3.12/site-packages (from aiohttp->datasets->-r ../../pip-dependencies.txt (line 11)) (1.5.0)\n",
      "Requirement already satisfied: multidict<7.0,>=4.5 in /home/vojta/.local/lib/python3.12/site-packages (from aiohttp->datasets->-r ../../pip-dependencies.txt (line 11)) (6.1.0)\n",
      "Requirement already satisfied: propcache>=0.2.0 in /home/vojta/.local/lib/python3.12/site-packages (from aiohttp->datasets->-r ../../pip-dependencies.txt (line 11)) (0.2.1)\n",
      "Requirement already satisfied: yarl<2.0,>=1.17.0 in /home/vojta/.local/lib/python3.12/site-packages (from aiohttp->datasets->-r ../../pip-dependencies.txt (line 11)) (1.18.3)\n",
      "Requirement already satisfied: python-dateutil>=2.8.2 in /usr/lib/python3/dist-packages (from pandas->datasets->-r ../../pip-dependencies.txt (line 11)) (2.8.2)\n",
      "Requirement already satisfied: pytz>=2020.1 in /usr/lib/python3/dist-packages (from pandas->datasets->-r ../../pip-dependencies.txt (line 11)) (2024.1)\n",
      "Requirement already satisfied: tzdata>=2022.7 in /home/vojta/.local/lib/python3.12/site-packages (from pandas->datasets->-r ../../pip-dependencies.txt (line 11)) (2024.2)\n",
      "Requirement already satisfied: charset-normalizer<4,>=2 in /home/vojta/.local/lib/python3.12/site-packages (from requests->transformers->-r ../../pip-dependencies.txt (line 9)) (3.4.0)\n",
      "Requirement already satisfied: idna<4,>=2.5 in /usr/lib/python3/dist-packages (from requests->transformers->-r ../../pip-dependencies.txt (line 9)) (3.6)\n",
      "Requirement already satisfied: urllib3<3,>=1.21.1 in /usr/lib/python3/dist-packages (from requests->transformers->-r ../../pip-dependencies.txt (line 9)) (2.0.7)\n",
      "Requirement already satisfied: certifi>=2017.4.17 in /usr/lib/python3/dist-packages (from requests->transformers->-r ../../pip-dependencies.txt (line 9)) (2023.11.17)\n"
     ]
    }
   ],
   "source": [
    "import sys\n",
    "import xml.etree.ElementTree as ET\n",
    "\n",
    "\n",
    "sys.path.append('../')\n",
    "sys.path.append('../my_libs/')\n",
    "sys.path.append('../my_libs/img/')\n",
    "\n",
    "!{sys.executable} -m pip install --break-system-packages -r ../../pip-dependencies.txt"
   ]
  },
  {
   "cell_type": "code",
   "execution_count": 12,
   "metadata": {},
   "outputs": [],
   "source": [
    "import my_libs as ml\n",
    "from my_libs.tools import *\n",
    "from my_libs.fft import *\n",
    "from my_libs.colors import *\n",
    "from my_libs.img.processing import *\n",
    "from ultralytics import YOLO\n"
   ]
  },
  {
   "cell_type": "code",
   "execution_count": 13,
   "metadata": {},
   "outputs": [
    {
     "name": "stdout",
     "output_type": "stream",
     "text": [
      "Hello world!"
     ]
    }
   ],
   "source": [
    "ml.tools.printf(\"Hello world!\")"
   ]
  },
  {
   "cell_type": "markdown",
   "metadata": {},
   "source": [
    "## Cvičení 13(14)"
   ]
  },
  {
   "cell_type": "markdown",
   "metadata": {},
   "source": [
    "0)  Použijte knihovnu ultralytics. \n",
    "Knihovnu lze nainstalovat jako pip install ultralytics \n",
    "1)  Převeďte data do formátu podporovaného ultralyics dle \n",
    "https://docs.ultralytics.com/yolov5/tutorials/train_custom_data/  \n",
    "Všechny anotace k obrázkům jsou v annotations.xml. Ke každému \n",
    "obrázku nazev.png v adresáři images je potřeba vytvořit odpovídající \n",
    "nazev.txt v adresáři labels. Každý objekt na obrázku je pak jeden \n",
    "řádek v txt souboru ve formátu \n",
    "class_idx x_center y_center width height \n",
    "kde  class_idx je index třídy a ostatní jsou souřadnice ohraničujícího \n",
    "obdélníka relativně vůči velikosti obrázku, viz \n",
    "https://docs.ultralytics.com/yolov5/tutorials/train_custom_data/#22-create-\n",
    "labels  \n",
    "2)  Důležitý je rovněž yaml soubor s cestami k datasetu a názvy tříd (v našem \n",
    "problému máme pouze jednu třídu „strawberry”), viz  \n",
    "https://docs.ultralytics.com/yolov5/tutorials/train_custom_data/#21-create-\n",
    "datasetyaml  \n",
    "Data nemusíte rozdělovat na trénovací a validační, tzn. pro adresáře \n",
    "train i val použijte adresář obsahující všechny obrázky. \n",
    "3)  Stáhněte předtrénovaný YOLO model z \n",
    "https://docs.ultralytics.com/models/yolo11/#supported-tasks-and-modes \n",
    "dostatečně dobře bude fungovat i nejmenší model nano (n). \n",
    "4)  Natrénujte model a uložte, viz \n",
    "https://docs.ultralytics.com/modes/train/#usage-examples  \n",
    "5)  Použijte model na obrázky v podadresáři test a vykreslete predikované \n",
    "obdélníky, viz \n",
    "https://docs.ultralytics.com/modes/predict/#key-features-of-predict-mode"
   ]
  },
  {
   "cell_type": "markdown",
   "metadata": {},
   "source": [
    "1. Ke každému obrázku má být .txt s třídou (0 protože strawberry) a relativní souřadnice (0-1) středu obrázku a výšky a šířky obdélníka\n",
    "2. Natrénovat na celém datasetu, nerozdělovat ho na train a test\n",
    "4. Vykreslit results sám, ne pomocí zabudovaných funkcí"
   ]
  },
  {
   "cell_type": "code",
   "execution_count": 23,
   "metadata": {},
   "outputs": [],
   "source": [
    "# Load a COCO-pretrained YOLO11n model\n",
    "model = YOLO(\"yolo11n.pt\", \"dataset.yaml\")"
   ]
  },
  {
   "cell_type": "markdown",
   "metadata": {},
   "source": [
    "### Resize obrázky na 640x640px"
   ]
  },
  {
   "cell_type": "code",
   "execution_count": 17,
   "metadata": {},
   "outputs": [
    {
     "name": "stdout",
     "output_type": "stream",
     "text": [
      "Images resized and saved to:  ./strawberries/images_640px\n"
     ]
    }
   ],
   "source": [
    "input_folder = \"./strawberries/images\"\n",
    "output_folder = \"./strawberries/images_640px\"\n",
    "\n",
    "for file in os.listdir(input_folder):\n",
    "    input_path = os.path.join(input_folder, file)\n",
    "    output_path = os.path.join(output_folder, file)\n",
    "\n",
    "    image = cv2.imread(input_path)\n",
    "    image_640px = cv2.resize(image, (640, 640))\n",
    "\n",
    "    cv2.imwrite(output_path, image_640px)\n",
    "print(\"Images resized and saved to: \", output_folder)"
   ]
  },
  {
   "cell_type": "markdown",
   "metadata": {},
   "source": [
    "### Tvorba labels z annotations.xml"
   ]
  },
  {
   "cell_type": "code",
   "execution_count": 29,
   "metadata": {},
   "outputs": [],
   "source": [
    "labels_folder = \"./strawberries/labels\"\n",
    "\n",
    "def parse_annotation(xml_file):\n",
    "    tree = ET.parse(xml_file)\n",
    "    root = tree.getroot()\n",
    "\n",
    "    annotations = []\n",
    "    for image in root.findall(\"image\"):\n",
    "            txt_filename = f\"{labels_folder}/{image.attrib[\"id\"]}.txt\"\n",
    "            txt_file = open(txt_filename, \"a\")\n",
    "            image_width = int(image.attrib[\"width\"])\n",
    "            image_height = int(image.attrib[\"height\"])\n",
    "            for box in range(len(image)):\n",
    "                x_center = float(image[box].attrib[\"xtl\"])/image_width\n",
    "                y_center = float(image[box].attrib[\"ytl\"])/image_height\n",
    "                width = float(image[box].attrib[\"xbr\"])/image_width\n",
    "                height = float(image[box].attrib[\"ybr\"])/image_height\n",
    "                txt_file.write(f\"0 {x_center} {y_center} {width} {height}\\n\")\n",
    "\n",
    "parse_annotation(\"./strawberries/annotations.xml\")"
   ]
  },
  {
   "cell_type": "code",
   "execution_count": null,
   "metadata": {},
   "outputs": [],
   "source": []
  },
  {
   "cell_type": "code",
   "execution_count": null,
   "metadata": {},
   "outputs": [],
   "source": []
  },
  {
   "cell_type": "code",
   "execution_count": null,
   "metadata": {},
   "outputs": [],
   "source": []
  }
 ],
 "metadata": {
  "kernelspec": {
   "display_name": "Python 3",
   "language": "python",
   "name": "python3"
  },
  "language_info": {
   "codemirror_mode": {
    "name": "ipython",
    "version": 3
   },
   "file_extension": ".py",
   "mimetype": "text/x-python",
   "name": "python",
   "nbconvert_exporter": "python",
   "pygments_lexer": "ipython3",
   "version": "3.12.3"
  }
 },
 "nbformat": 4,
 "nbformat_minor": 2
}
