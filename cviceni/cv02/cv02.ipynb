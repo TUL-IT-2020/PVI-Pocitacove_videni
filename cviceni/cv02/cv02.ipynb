{
 "cells": [
  {
   "cell_type": "code",
   "execution_count": 1,
   "metadata": {},
   "outputs": [
    {
     "name": "stdout",
     "output_type": "stream",
     "text": [
      "Python běží!\n"
     ]
    }
   ],
   "source": [
    "print(\"Python běží!\")"
   ]
  },
  {
   "cell_type": "code",
   "execution_count": null,
   "metadata": {},
   "outputs": [],
   "source": [
    "import sys\n",
    "!{sys.executable} -m pip install -r requirements.txt"
   ]
  },
  {
   "cell_type": "markdown",
   "metadata": {},
   "source": [
    "# CVO2\n",
    "1) Naprogramujte funkci, která rozpozná barvu z detekované oblasti a vrátí \n",
    "textový řetězec, uvažujte barvy: bílá, šedá, černá, červená, zelená, modrá, \n",
    "žlutá, oranžová, fialová, růžová, (hnědá). Využijte funkci: \n",
    "`im2 = cv2.cvtColor(im, cv2.COLOR_RGB2HSV)`\n",
    "\n",
    "2) V obrázku `cv02_01.bmp` rozpoznejte jednotlivé barvy a rozpoznaný text \n",
    "vepište přímo do obrázku. \n",
    "\n",
    "```python\n",
    "cv2 - výpis textu do obrázku\n",
    "# font\n",
    "font = cv2.FONT_HERSHEY_SIMPLEX\n",
    "# org\n",
    "org = (20, 100)\n",
    "# fontScale\n",
    "fontScale = 1 \n",
    "# color\n",
    "colT = (0, 0, 0)\n",
    "# Line thickness of 2 px\n",
    "im = cv2.putText(im, 'Text', org, font, fontScale, colT, thickness, cv2.LINE_AA)\n",
    "```"
   ]
  },
  {
   "cell_type": "code",
   "execution_count": 2,
   "metadata": {},
   "outputs": [],
   "source": [
    "import numpy as np\n",
    "import matplotlib.pyplot as plt\n",
    "import cv2"
   ]
  },
  {
   "cell_type": "code",
   "execution_count": 3,
   "metadata": {},
   "outputs": [],
   "source": [
    "# Rozpoznání barev: bílá, šedá, černá, červená, zelená, modrá, žlutá, oranžová, fialová, růžová, (hnědá)\n",
    "colors = (\"bila\", \"seda\", \"cerna\", \"cervena\", \"zelena\", \"modra\", \"zluta\", \"oranzova\", \"fialova\", \"ruzova\", \"hneda\")\n",
    "\n",
    "def color2text(crop_img: np.ndarray) -> str:\n",
    "\t# mean color of the image in x,y direction\n",
    "\tmean = cv2.mean(crop_img)\n",
    "\t# mean color of the image in x direction\n",
    "\t#mean_x = cv2.mean(crop_img)[0]\n",
    "\t# mean color of the image in y direction\n",
    "\t#mean_y = cv2.mean(crop_img)[1]\n",
    "\t\n",
    "\n",
    "\n",
    " \n",
    "    "
   ]
  },
  {
   "cell_type": "code",
   "execution_count": 4,
   "metadata": {},
   "outputs": [
    {
     "data": {
      "text/plain": [
       "<matplotlib.image.AxesImage at 0x70aa8028ee10>"
      ]
     },
     "execution_count": 4,
     "metadata": {},
     "output_type": "execute_result"
    },
    {
     "data": {
      "image/png": "[encoded data removed]",
      "text/plain": [
       "<Figure size 640x480 with 1 Axes>"
      ]
     },
     "metadata": {},
     "output_type": "display_data"
    }
   ],
   "source": [
    "# Zobrazení obrázku\n",
    "img_file = \"cv02_01.bmp\"\n",
    "img = cv2.imread(img_file)\n",
    "img = cv2.cvtColor(img, cv2.COLOR_BGR2RGB)\n",
    "plt.imshow(img)"
   ]
  },
  {
   "cell_type": "code",
   "execution_count": 8,
   "metadata": {},
   "outputs": [
    {
     "data": {
      "text/plain": [
       "<matplotlib.image.AxesImage at 0x70aa77fddf70>"
      ]
     },
     "execution_count": 8,
     "metadata": {},
     "output_type": "execute_result"
    },
    {
     "data": {
      "image/png": "[encoded data removed]",
      "text/plain": [
       "<Figure size 640x480 with 1 Axes>"
      ]
     },
     "metadata": {},
     "output_type": "display_data"
    }
   ],
   "source": [
    "img_hsv = cv2.cvtColor(img, cv2.COLOR_RGB2HSV)\n",
    "\n",
    "# cv2 - výpis textu do obrázku\n",
    "# font\n",
    "font = cv2.FONT_HERSHEY_SIMPLEX\n",
    "# org\n",
    "org = (20, 100)\n",
    "# fontScale\n",
    "fontScale = 1 \n",
    "# color\n",
    "colT = (0, 0, 0)\n",
    "colT = (255, 255, 255)\n",
    "# Line thickness of 2 px\n",
    "thickness = 2\n",
    "im = cv2.putText(img, 'Text', org, font, fontScale, colT, thickness, cv2.LINE_AA)\n",
    "\n",
    "plt.imshow(im)"
   ]
  }
 ],
 "metadata": {
  "kernelspec": {
   "display_name": "Python 3",
   "language": "python",
   "name": "python3"
  },
  "language_info": {
   "codemirror_mode": {
    "name": "ipython",
    "version": 3
   },
   "file_extension": ".py",
   "mimetype": "text/x-python",
   "name": "python",
   "nbconvert_exporter": "python",
   "pygments_lexer": "ipython3",
   "version": "3.12.3"
  }
 },
 "nbformat": 4,
 "nbformat_minor": 2
}
