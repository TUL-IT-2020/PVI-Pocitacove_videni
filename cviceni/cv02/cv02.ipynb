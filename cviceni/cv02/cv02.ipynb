{
 "cells": [
  {
   "cell_type": "code",
   "execution_count": 19,
   "metadata": {},
   "outputs": [
    {
     "name": "stdout",
     "output_type": "stream",
     "text": [
      "Python běží!\n"
     ]
    }
   ],
   "source": [
    "print(\"Python běží!\")"
   ]
  },
  {
   "cell_type": "code",
   "execution_count": 4,
   "metadata": {},
   "outputs": [
    {
     "name": "stdout",
     "output_type": "stream",
     "text": [
      "Defaulting to user installation because normal site-packages is not writeable\n",
      "\u001b[31mERROR: Could not open requirements file: [Errno 2] Adresář nebo soubor neexistuje: 'requirements.txt'\u001b[0m\u001b[31m\n",
      "\u001b[0m"
     ]
    }
   ],
   "source": [
    "import sys\n",
    "\n",
    "!{sys.executable} -m pip install -r requirements.txt"
   ]
  },
  {
   "cell_type": "markdown",
   "metadata": {},
   "source": [
    "# CVO2\n",
    "1) Naprogramujte funkci, která rozpozná barvu z detekované oblasti a vrátí \n",
    "textový řetězec, uvažujte barvy: bílá, šedá, černá, červená, zelená, modrá, \n",
    "žlutá, oranžová, fialová, růžová, (hnědá). Využijte funkci: \n",
    "`im2 = cv2.cvtColor(im, cv2.COLOR_RGB2HSV)`\n",
    "\n",
    "2) V obrázku `cv02_01.bmp` rozpoznejte jednotlivé barvy a rozpoznaný text \n",
    "vepište přímo do obrázku. \n",
    "\n",
    "```python\n",
    "cv2 - výpis textu do obrázku\n",
    "# font\n",
    "font = cv2.FONT_HERSHEY_SIMPLEX\n",
    "# org\n",
    "org = (20, 100)\n",
    "# fontScale\n",
    "fontScale = 1 \n",
    "# color\n",
    "colT = (0, 0, 0)\n",
    "# Line thickness of 2 px\n",
    "im = cv2.putText(im, 'Text', org, font, fontScale, colT, thickness, cv2.LINE_AA)\n",
    "```"
   ]
  },
  {
   "cell_type": "code",
   "execution_count": 5,
   "metadata": {},
   "outputs": [],
   "source": [
    "import numpy as np\n",
    "import matplotlib.pyplot as plt\n",
    "import cv2"
   ]
  },
  {
   "cell_type": "code",
   "execution_count": 57,
   "metadata": {},
   "outputs": [],
   "source": [
    "DEBUG = False\n",
    "VERBOSE = True"
   ]
  },
  {
   "cell_type": "code",
   "execution_count": 25,
   "metadata": {},
   "outputs": [
    {
     "data": {
      "text/plain": [
       "<matplotlib.image.AxesImage at 0x7970a0355d00>"
      ]
     },
     "execution_count": 25,
     "metadata": {},
     "output_type": "execute_result"
    },
    {
     "data": {
      "image/png": "[encoded data removed]",
      "text/plain": [
       "<Figure size 640x480 with 1 Axes>"
      ]
     },
     "metadata": {},
     "output_type": "display_data"
    }
   ],
   "source": [
    "# Zobrazení obrázku\n",
    "img_file = \"cv02_01.bmp\"\n",
    "img = cv2.imread(img_file)\n",
    "img = cv2.cvtColor(img, cv2.COLOR_BGR2RGB)\n",
    "plt.imshow(img)"
   ]
  },
  {
   "cell_type": "code",
   "execution_count": 60,
   "metadata": {},
   "outputs": [],
   "source": [
    "# Rozpoznání barev: bílá, šedá, černá, červená, zelená, modrá, žlutá, oranžová, fialová, růžová, (hnědá)\n",
    "colors = (\n",
    "    \"bila\",\n",
    "    \"seda\",\n",
    "    \"cerna\",\n",
    "    \"cervena\",\n",
    "    \"zelena\",\n",
    "    \"modra\",\n",
    "    \"zluta\",\n",
    "    \"oranzova\",\n",
    "    \"fialova\",\n",
    "    \"ruzova\",\n",
    "    \"hneda\",\n",
    ")\n",
    "\n",
    "colors_hsv = {\n",
    "    \"bila\": (0, 0, 255),\n",
    "    \"seda\": (0, 0, 127),\n",
    "    \"cerna\": (0, 0, 0),\n",
    "    \"cervena\": (0, 255, 255),\n",
    "    \"zelena\": (60, 255, 255),\n",
    "    \"modra\": (120, 255, 255),\n",
    "    \"zluta\": (30, 255, 255),\n",
    "    \"oranzova\": (15, 255, 255),\n",
    "    \"fialova\": (150, 255, 255),\n",
    "    \"ruzova\": (165, 255, 255),\n",
    "    \"hneda\": (0, 255, 127),\n",
    "}\n",
    "\n",
    "\n",
    "def color2text(crop_img: np.ndarray) -> str:\n",
    "    # to HSV\n",
    "    brg = cv2.cvtColor(crop_img, cv2.COLOR_BGR2RGB)\n",
    "    hsv = cv2.cvtColor(brg, cv2.COLOR_BGR2HSV)\n",
    "    # mean color of the image in x,y direction\n",
    "    mean = cv2.mean(hsv)\n",
    "    # shape\n",
    "    if DEBUG:\n",
    "        print(\"mean color:\", mean[0:3])\n",
    "    # color\n",
    "    color = min(colors_hsv, key=lambda x: np.linalg.norm(np.array(colors_hsv[x]) - mean[0:3]))\n",
    "    return color"
   ]
  },
  {
   "cell_type": "code",
   "execution_count": 61,
   "metadata": {},
   "outputs": [
    {
     "name": "stdout",
     "output_type": "stream",
     "text": [
      "(600, 600, 3)\n",
      "cerna\n",
      "bila\n",
      "cervena\n"
     ]
    }
   ],
   "source": [
    "print(img.shape)\n",
    "print(color2text(img[0:200, 0:200]))\n",
    "print(color2text(img[0:200, 200:400]))\n",
    "print(color2text(img[0:200, 400:600]))"
   ]
  },
  {
   "cell_type": "code",
   "execution_count": 62,
   "metadata": {},
   "outputs": [
    {
     "data": {
      "text/plain": [
       "<matplotlib.image.AxesImage at 0x797094bc7ad0>"
      ]
     },
     "execution_count": 62,
     "metadata": {},
     "output_type": "execute_result"
    },
    {
     "data": {
      "image/png": "[encoded data removed]",
      "text/plain": [
       "<Figure size 640x480 with 1 Axes>"
      ]
     },
     "metadata": {},
     "output_type": "display_data"
    }
   ],
   "source": [
    "img_hsv = cv2.cvtColor(img, cv2.COLOR_RGB2HSV)\n",
    "\n",
    "# cv2 - výpis textu do obrázku\n",
    "# font\n",
    "font = cv2.FONT_HERSHEY_SIMPLEX\n",
    "# org\n",
    "org = (20, 100)\n",
    "# fontScale\n",
    "fontScale = 1\n",
    "# color\n",
    "colT = (0, 0, 0)\n",
    "colT = (255, 255, 255)\n",
    "# Line thickness of 2 px\n",
    "thickness = 2\n",
    "im_test = cv2.putText(img.copy(), \"Text\", org, font, fontScale, colT, thickness, cv2.LINE_AA)\n",
    "\n",
    "plt.imshow(im_test)"
   ]
  },
  {
   "cell_type": "code",
   "execution_count": 63,
   "metadata": {},
   "outputs": [
    {
     "name": "stdout",
     "output_type": "stream",
     "text": [
      "Size: 600 600\n",
      "Cube size: 200 200\n",
      "Crop coords: 0 199 0 199\n",
      "Crop coords: 0 199 200 399\n",
      "Crop coords: 0 199 400 599\n",
      "Crop coords: 200 399 0 199\n",
      "Crop coords: 200 399 200 399\n",
      "Crop coords: 200 399 400 599\n",
      "Crop coords: 400 599 0 199\n",
      "Crop coords: 400 599 200 399\n",
      "Crop coords: 400 599 400 599\n"
     ]
    },
    {
     "data": {
      "text/plain": [
       "<matplotlib.image.AxesImage at 0x797094b79e50>"
      ]
     },
     "execution_count": 63,
     "metadata": {},
     "output_type": "execute_result"
    },
    {
     "data": {
      "image/png": "[encoded data removed]",
      "text/plain": [
       "<Figure size 640x480 with 1 Axes>"
      ]
     },
     "metadata": {},
     "output_type": "display_data"
    }
   ],
   "source": [
    "rows, cols = 3, 3\n",
    "img_color_names = img.copy()\n",
    "y, x = img.shape[0:2]\n",
    "cube_size_x = int(x/cols)\n",
    "cube_size_y = int(y/rows)\n",
    "if VERBOSE:\n",
    "    print(\"Size:\", x,y)\n",
    "    print(\"Cube size:\", cube_size_x, cube_size_y)\n",
    "\n",
    "for i in range(rows):\n",
    "    for j in range(cols):\n",
    "        x_min = i*cube_size_x\n",
    "        x_max = i*cube_size_x+cube_size_x-1\n",
    "        y_min = j*cube_size_y\n",
    "        y_max = j*cube_size_y+cube_size_y-1\n",
    "        if VERBOSE:\n",
    "            print(\"Crop coords:\", x_min, x_max, y_min, y_max)\n",
    "        crop_img = img[y_min:y_max, x_min:x_max]\n",
    "        if DEBUG:\n",
    "            print(crop_img.shape)\n",
    "        # print text\n",
    "        # color\n",
    "        if i == 0 and j == 0:\n",
    "            colT = (255, 255, 255)\n",
    "        else:\n",
    "            colT = (0, 0, 0)\n",
    "        color_name = color2text(crop_img)\n",
    "        text_coords = (x_min+20, y_min+cube_size_y//2)\n",
    "        img_color_names = cv2.putText(img_color_names, color_name, text_coords, font, fontScale, colT, thickness, cv2.LINE_AA)\n",
    "\t\t\n",
    "plt.imshow(img_color_names)"
   ]
  }
 ],
 "metadata": {
  "kernelspec": {
   "display_name": "Python 3",
   "language": "python",
   "name": "python3"
  },
  "language_info": {
   "codemirror_mode": {
    "name": "ipython",
    "version": 3
   },
   "file_extension": ".py",
   "mimetype": "text/x-python",
   "name": "python",
   "nbconvert_exporter": "python",
   "pygments_lexer": "ipython3",
   "version": "3.12.3"
  }
 },
 "nbformat": 4,
 "nbformat_minor": 2
}
