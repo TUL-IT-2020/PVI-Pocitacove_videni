{
 "cells": [
  {
   "cell_type": "code",
   "execution_count": null,
   "metadata": {},
   "outputs": [],
   "source": [
    "print(\"Python běží!\")"
   ]
  },
  {
   "cell_type": "code",
   "execution_count": null,
   "metadata": {},
   "outputs": [],
   "source": [
    "import sys\n",
    "\n",
    "sys.path.append('../')\n",
    "sys.path.append('../my_libs/')\n",
    "sys.path.append('../my_libs/img/')\n",
    "\n",
    "!{sys.executable} -m pip install -r ../../pip-dependencies.txt"
   ]
  },
  {
   "cell_type": "code",
   "execution_count": null,
   "metadata": {},
   "outputs": [],
   "source": [
    "import my_libs as ml\n",
    "from my_libs.tools import *\n",
    "from my_libs.fft import *\n",
    "from my_libs.colors import *\n",
    "from my_libs.img.processing import *"
   ]
  },
  {
   "cell_type": "code",
   "execution_count": null,
   "metadata": {},
   "outputs": [],
   "source": [
    "ml.tools.printf(\"Hello world!\")"
   ]
  },
  {
   "cell_type": "markdown",
   "metadata": {},
   "source": [
    "<h1>CVIČENÍ 9: OBČANSKÝ PRŮKAZ</h1>"
   ]
  },
  {
   "cell_type": "markdown",
   "metadata": {},
   "source": [
    "Vytvořte  program  pro  strojové  odečítání  údajů  z občanského  průkazu  ČR. \n",
    "Průkaz může být  vůči kameře libovolně  otočen,  a  to  i  mimo  rovinu  obrazu. \n",
    "Pro jednoduchost uvažujte pouze jednu  variantu  se strojově čitelnými údaji \n",
    "vydávanou v letech 2012-2014.\n",
    "\n",
    "Načtěte vzorový obraz obcansky_prukaz_cr_sablona_2012_2014.png. \n",
    "- Pomocí  metody  SIFT  najděte zájmové body a extrahujte z jejich  okolí \n",
    "deskriptory. \n",
    "- Načtěte  jeden z  testovacích  obrazů z archivu  cv09.zip a  shodným \n",
    "způsobem  jako u vzorového  obrazu  na něm detekujte zájmové body a \n",
    "extrahujte jejich deskriptory. \n",
    "- Každému  bodu  ze  vzorového  obrazu  přiřaďte  nejpodobnější  bod \n",
    "z testovacího obrazu  porovnáním  jejich  deskriptorů.  Odfiltrujte \n",
    "nejednoznačné  korespondence přiřazení  dle  poměru vzdáleností \n",
    "nejbližšího a druhého nejbližšího souseda. \n",
    "- Na  základě  lokálních  korespondencí  odhadněte  projektivní \n",
    "geometrickou transformaci  mezi  oběma  obrazy  a  vykreslete  přesnou \n",
    "pozici průkazu vyznačením jeho hran na testovacím obrázku. \n",
    "- Vyřízněte  průkaz  z testovacího obrazu a zarovnejte tak, aby bylo \n",
    "možné  ze  známých  (a  vždy  stejných)  pozic  odečíst  údaje.  Příklad \n",
    "zarovnaného průkazu je na obrázku 10_cze_id.jpg. \n",
    "- V samostatném okně zobrazte fotografii  majitele  průkazu  a  do  ní \n",
    "připište  jeho  jméno  a  příjmení  odečtená  ze  zarovnaného  průkazu \n",
    "pomocí některého z nástrojů OCR, např. easyocr."
   ]
  },
  {
   "cell_type": "code",
   "execution_count": null,
   "metadata": {},
   "outputs": [],
   "source": [
    "\"\"\" bf matcher - přiřazení nejpodobnějších bodů\n",
    "estimate transform - projektivní transformace\n",
    "perspective transform \"\"\""
   ]
  },
  {
   "cell_type": "code",
   "execution_count": null,
   "metadata": {},
   "outputs": [],
   "source": [
    "img = cv2.imread(\"./data/obcansky_prukaz_cr_sablona_2012_2014.png\")"
   ]
  },
  {
   "cell_type": "code",
   "execution_count": null,
   "metadata": {},
   "outputs": [],
   "source": []
  },
  {
   "cell_type": "code",
   "execution_count": null,
   "metadata": {},
   "outputs": [],
   "source": []
  },
  {
   "cell_type": "code",
   "execution_count": null,
   "metadata": {},
   "outputs": [],
   "source": []
  },
  {
   "cell_type": "code",
   "execution_count": null,
   "metadata": {},
   "outputs": [],
   "source": []
  }
 ],
 "metadata": {
  "kernelspec": {
   "display_name": "Python 3",
   "language": "python",
   "name": "python3"
  },
  "language_info": {
   "codemirror_mode": {
    "name": "ipython",
    "version": 3
   },
   "file_extension": ".py",
   "mimetype": "text/x-python",
   "name": "python",
   "nbconvert_exporter": "python",
   "pygments_lexer": "ipython3",
   "version": "3.12.3"
  }
 },
 "nbformat": 4,
 "nbformat_minor": 2
}
