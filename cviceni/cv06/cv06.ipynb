{
 "cells": [
  {
   "cell_type": "code",
   "execution_count": null,
   "metadata": {},
   "outputs": [],
   "source": [
    "print(\"Python běží!\")"
   ]
  },
  {
   "cell_type": "code",
   "execution_count": null,
   "metadata": {},
   "outputs": [],
   "source": [
    "import sys\n",
    "\n",
    "sys.path.append('../')\n",
    "sys.path.append('../my_libs/')\n",
    "sys.path.append('../my_libs/img/')\n",
    "\n",
    "!{sys.executable} -m pip install -r ../../pip-dependencies.txt"
   ]
  },
  {
   "cell_type": "code",
   "execution_count": null,
   "metadata": {},
   "outputs": [],
   "source": [
    "import my_libs as ml\n",
    "from my_libs.tools import *\n",
    "from my_libs.fft import *\n",
    "from my_libs.colors import *\n",
    "from my_libs.img.processing import *"
   ]
  },
  {
   "cell_type": "code",
   "execution_count": null,
   "metadata": {},
   "outputs": [],
   "source": [
    "ml.tools.printf(\"Hello world!\")"
   ]
  },
  {
   "cell_type": "markdown",
   "metadata": {},
   "source": [
    "# Cvičení 6\n",
    "1) Načtěte obrázek pvi_cv06_mince.jpg. Obraz převeďte do složky Hue. Na \n",
    "základě  histogramu  stanovte  práh  a  obraz  segmentujte.  V  jednom  okně \n",
    "zobrazte RGB a Hue obraz, histogram a výsledný segmentovaný obraz. \n",
    " \n",
    "2)  Na  výsledný  binární  obraz  aplikujte  algoritmus  rozvodí  (watershed). \n",
    "Nalezenou  hranici  z  rozvodí  zvětšete  pomocí  dilatace  se  strukturním \n",
    "elementem 3x3 a odstraňte z původního segmentovaného obrazu, aby došlo \n",
    "k oddělení objektů.  \n",
    " \n",
    "3) Artefakty z oddělení objektů odsraňte při využítí algoritmu barvení oblastí. \n",
    "Např.: všechny objekty, které mají méně než 1000 obrazových bodů budou \n",
    "odstraněny. \n",
    " \n",
    "4)  Z  binárního  obrazu  vytvořte  granulometrické  spektrum.  Spektrum \n",
    "analyzujte  (např.  od  objektů  velikosti  40x40  obrazových  bodů).  Všechny \n",
    "poměry menší než 0,9 zanedbejte. Zaokrouhlení poměru - bez desetiné části.  \n",
    " \n",
    "5)  Výstupem bude velikost objektu a počet objektů. \n",
    " \n",
    "help:  \n",
    "- https://docs.opencv.org/4.x/d3/db4/tutorial_py_watershed.html "
   ]
  },
  {
   "cell_type": "code",
   "execution_count": null,
   "metadata": {},
   "outputs": [],
   "source": []
  }
 ],
 "metadata": {
  "kernelspec": {
   "display_name": "Python 3",
   "language": "python",
   "name": "python3"
  },
  "language_info": {
   "codemirror_mode": {
    "name": "ipython",
    "version": 3
   },
   "file_extension": ".py",
   "mimetype": "text/x-python",
   "name": "python",
   "nbconvert_exporter": "python",
   "pygments_lexer": "ipython3",
   "version": "3.12.3"
  }
 },
 "nbformat": 4,
 "nbformat_minor": 2
}
